{
 "cells": [
  {
   "cell_type": "code",
   "execution_count": 1,
   "id": "e58926e9-e716-457c-95a6-66620548d9ff",
   "metadata": {
    "scrolled": true
   },
   "outputs": [],
   "source": [
    "import numpy as np\n",
    "import awkward as ak\n",
    "import glob\n",
    "import dask_awkward as dak\n",
    "from distributed import LocalCluster, Client, progress\n",
    "\n",
    "client =  Client(n_workers=60,  threads_per_worker=2, processes=True, memory_limit='8 GiB') \n"
   ]
  },
  {
   "cell_type": "code",
   "execution_count": 14,
   "id": "170b56f9-fc03-4351-86f6-988ce13842f0",
   "metadata": {},
   "outputs": [],
   "source": [
    "# year = \"2017\"\n",
    "year = \"2016postVFP\"\n",
    "# load_path = \"/depot/cms/users/yun79/hmm/copperheadV1clean/test_test//stage1_output/2018/f1_0/cutflow_data_*\"\n",
    "load_path = f\"/depot/cms/users/yun79/hmm/copperheadV1clean/cutflow_18Apr2025_singleMuTrigMatch//stage1_output/{year}/f1_0/cutflow_*\"\n",
    "filelist = glob.glob(f\"{load_path}/*.parquet\")\n",
    "ak_zip=dak.from_parquet(filelist)"
   ]
  },
  {
   "cell_type": "code",
   "execution_count": 15,
   "id": "a3025e97-02fd-4668-a7b3-520944bc5f15",
   "metadata": {},
   "outputs": [
    {
     "data": {
      "text/plain": [
       "['TotalEntries',\n",
       " 'LumiMaskMetFilterPv',\n",
       " 'HLT_filter',\n",
       " 'muon_base_selection',\n",
       " 'muon_trig_match',\n",
       " 'electron_veto',\n",
       " 'Jet_selection_njetsLeq2',\n",
       " 'HemVeto_filter',\n",
       " 'anti_ttH_btag_cut',\n",
       " 'ggH_cut',\n",
       " 'signal_fit_region']"
      ]
     },
     "execution_count": 15,
     "metadata": {},
     "output_type": "execute_result"
    }
   ],
   "source": [
    "ak_zip.fields"
   ]
  },
  {
   "cell_type": "code",
   "execution_count": 16,
   "id": "d8404009-4efd-4560-98e1-e8a3c0ad27ff",
   "metadata": {
    "scrolled": true
   },
   "outputs": [],
   "source": [
    "# # sig_region_yield = [ak_zip[field][:50] for field in ak_zip.fields]\n",
    "# sig_region_yield = [ak_zip[field] for field in ak_zip.fields]\n",
    "# # sig_region_yield = ak.prod(sig_region_yield)"
   ]
  },
  {
   "cell_type": "code",
   "execution_count": 17,
   "id": "a11160ca-a6a0-406c-96a1-4cd8d2be0c06",
   "metadata": {
    "scrolled": true
   },
   "outputs": [
    {
     "name": "stdout",
     "output_type": "stream",
     "text": [
      "TotalEntries sum: 331976208\n",
      "LumiMaskMetFilterPv sum: 326911885\n",
      "HLT_filter sum: 216656712\n",
      "muon_base_selection sum: 12873562\n",
      "muon_trig_match sum: 12361998\n",
      "electron_veto sum: 12358288\n",
      "Jet_selection_njetsLeq2 sum: 11890536\n",
      "HemVeto_filter sum: 11890536\n",
      "anti_ttH_btag_cut sum: 11780450\n",
      "ggH_cut sum: 11719595\n",
      "signal_fit_region sum: 188430\n"
     ]
    }
   ],
   "source": [
    "sig_region_arr = ak.ones_like(ak_zip.TotalEntries)\n",
    "\n",
    "for field in ak_zip.fields:\n",
    "    # if \"HemVeto\" in field:\n",
    "        # continue\n",
    "    arr = ak_zip[field]\n",
    "    sig_region_arr = sig_region_arr & arr\n",
    "    print(f\"{field} sum: {ak.sum(sig_region_arr).compute()}\")\n",
    "\n",
    "# sig_region_arr = ak.num(sig_region_arr, axis=0).compute()\n",
    "sig_region_arr = ak.sum(sig_region_arr).compute()"
   ]
  },
  {
   "cell_type": "code",
   "execution_count": 63,
   "id": "63f4c7f0-6b44-4da9-9de4-c4f89dc4bfdf",
   "metadata": {},
   "outputs": [],
   "source": [
    "# Rereco\n",
    "\n",
    "year = \"2018\"\n",
    "# year = \"2016postVFP\"\n",
    "# load_path = \"/depot/cms/users/yun79/hmm/copperheadV1clean/test_test//stage1_output/2018/f1_0/cutflow_data_*\"\n",
    "# load_path = f\"/depot/cms/users/yun79/hmm/copperheadV1clean/cutflow_rereco_yun_Apr20//stage1_output/{year}/data_B\"\n",
    "load_path = f\"/depot/cms/users/yun79/hmm/copperheadV1clean/test2//stage1_output/{year}/data_D\"\n",
    "filelist = glob.glob(f\"{load_path}/*.parquet\")\n",
    "ak_zip=dak.from_parquet(filelist)"
   ]
  },
  {
   "cell_type": "code",
   "execution_count": 64,
   "id": "5c5f61a6-db2b-4841-ac72-6b5e735a8832",
   "metadata": {},
   "outputs": [
    {
     "data": {
      "text/plain": [
       "['TotalEntries',\n",
       " 'LumiMaskMetFilterPv',\n",
       " 'HLT_filter',\n",
       " 'muon_base_selection',\n",
       " 'muon_trig_match',\n",
       " 'electron_veto',\n",
       " 'Jet_selection_njetsLeq2',\n",
       " 'anti_ttH_btag_cut',\n",
       " 'ggH_cut',\n",
       " 'signal_fit_region',\n",
       " 'njets_nominal',\n",
       " 'jet1_pt_nominal',\n",
       " 'jj_mass_nominal',\n",
       " 'jj_dEta_nominal',\n",
       " 'nBtagLoose_nominal',\n",
       " 'nBtagMedium_nominal',\n",
       " 'dataset',\n",
       " 'year']"
      ]
     },
     "execution_count": 64,
     "metadata": {},
     "output_type": "execute_result"
    }
   ],
   "source": [
    "ak_zip.fields"
   ]
  },
  {
   "cell_type": "code",
   "execution_count": 69,
   "id": "e871cccf-8948-4271-8f3b-3cbcb4dc8161",
   "metadata": {
    "scrolled": true
   },
   "outputs": [
    {
     "name": "stdout",
     "output_type": "stream",
     "text": [
      "year sum: 382375\n"
     ]
    }
   ],
   "source": [
    "sig_region_arr = ak.ones_like(ak_zip.TotalEntries)\n",
    "\n",
    "fields2compute = [\n",
    "    'TotalEntries',\n",
    " 'LumiMaskMetFilterPv',\n",
    " 'HLT_filter',\n",
    " 'muon_base_selection',\n",
    " 'muon_trig_match',\n",
    " 'electron_veto',\n",
    " # 'Jet_selection_njetsLeq2',\n",
    " 'anti_ttH_btag_cut',\n",
    " 'ggH_cut',\n",
    " 'signal_fit_region',\n",
    "]\n",
    "\n",
    "for field in ak_zip.fields:\n",
    "    # print(field)\n",
    "    # if \"ggH_cut\" in field:\n",
    "    #     continue\n",
    "    # if \"anti_ttH_btag_cut\" in field:\n",
    "    #     continue\n",
    "    # if \"Jet_selection_njetsLeq2\" in field:\n",
    "        # continue\n",
    "    if field not in fields2compute:\n",
    "        continue\n",
    "    arr = ak_zip[field]\n",
    "    # print(f\"{field} arr: {arr.compute()}\")\n",
    "    sig_region_arr = sig_region_arr & arr\n",
    "    # print(f\"{field} sum: {ak.sum(sig_region_arr).compute()}\")\n",
    "print(f\"{field} sum: {ak.sum(sig_region_arr).compute()}\")\n",
    "\n",
    "# sig_region_arr = ak.num(sig_region_arr, axis=0).compute()\n",
    "# sig_region_arr = ak.sum(sig_region_arr).compute()"
   ]
  },
  {
   "cell_type": "code",
   "execution_count": 60,
   "id": "50d9f83f-5711-49c8-8e49-cc82b90be1fb",
   "metadata": {},
   "outputs": [
    {
     "data": {
      "text/html": [
       "<pre>[35.3,\n",
       " 25.6,\n",
       " 0,\n",
       " 40.4,\n",
       " 0,\n",
       " 32.5,\n",
       " 41.2,\n",
       " 0,\n",
       " 0,\n",
       " 0]\n",
       "-------------------\n",
       "backend: cpu\n",
       "nbytes: 120 B\n",
       "type: 10 * ?float32</pre>"
      ],
      "text/plain": [
       "<Array [35.3, 25.6, 0, 40.4, 0, 32.5, 41.2, 0, 0, 0] type='10 * ?float32'>"
      ]
     },
     "execution_count": 60,
     "metadata": {},
     "output_type": "execute_result"
    }
   ],
   "source": [
    "ak_zip[\"jet1_pt_nominal\"][sig_region_arr].compute()\n",
    "# ak_zip[\"njets_nominal\"][sig_region_arr].compute()\n",
    "# ak.max(ak_zip[\"jet1_pt_nominal\"][sig_region_arr]).compute()"
   ]
  },
  {
   "cell_type": "code",
   "execution_count": 62,
   "id": "7ab1b7cd-7dea-43c6-961d-3354a74e8397",
   "metadata": {},
   "outputs": [
    {
     "name": "stdout",
     "output_type": "stream",
     "text": [
      "[35.3, 25.6, 0, 40.4, 0, 32.5, 41.2, 0, 0, 0]\n",
      "[0, 0, 0, 0, 0, 0, 0, 0, 0, 0]\n",
      "[-1, -1, -1, -1, -1, -1, -1, -1, -1, -1]\n",
      "[0, 0, 0, 0, 0, 0, 0, 0, 0, 0]\n",
      "[0, 0, 0, 0, 0, 0, 0, 0, 0, 0]\n",
      "[1, 1, 0, 1, 0, 1, 1, 0, 0, 0]\n"
     ]
    }
   ],
   "source": [
    "# print(ak_zip[\"ggH_cut\"][sig_region_arr].compute())\n",
    "print(ak_zip[\"jet1_pt_nominal\"][sig_region_arr].compute())\n",
    "\n",
    "print(ak_zip[\"jj_mass_nominal\"][sig_region_arr].compute())\n",
    "print(ak_zip[\"jj_dEta_nominal\"][sig_region_arr].compute())\n",
    "print(ak_zip[\"nBtagLoose_nominal\"][sig_region_arr].compute())\n",
    "print(ak_zip[\"nBtagMedium_nominal\"][sig_region_arr].compute())\n",
    "print(ak_zip[\"njets_nominal\"][sig_region_arr].compute())\n"
   ]
  },
  {
   "cell_type": "code",
   "execution_count": 25,
   "id": "8b42e03c-ba1d-4732-b36c-ab3fac670496",
   "metadata": {},
   "outputs": [
    {
     "data": {
      "text/html": [
       "<pre>[2,\n",
       " 1,\n",
       " 1,\n",
       " 0,\n",
       " 1,\n",
       " 0,\n",
       " 1,\n",
       " 1,\n",
       " 0,\n",
       " 0,\n",
       " 0]\n",
       "-------------------\n",
       "backend: cpu\n",
       "nbytes: 176 B\n",
       "type: 11 * ?float64</pre>"
      ],
      "text/plain": [
       "<Array [2, 1, 1, 0, 1, 0, 1, 1, 0, 0, 0] type='11 * ?float64'>"
      ]
     },
     "execution_count": 25,
     "metadata": {},
     "output_type": "execute_result"
    }
   ],
   "source": [
    "ak_zip[\"njets_nominal\"][sig_region_arr&ak_zip.Jet_selection_njetsLeq2].compute()\n"
   ]
  },
  {
   "cell_type": "code",
   "execution_count": 5,
   "id": "8010873c-b0c2-4c81-a6d3-2c0c4b88fcef",
   "metadata": {},
   "outputs": [
    {
     "data": {
      "text/plain": [
       "np.int64(102765)"
      ]
     },
     "execution_count": 5,
     "metadata": {},
     "output_type": "execute_result"
    }
   ],
   "source": [
    "ak.sum(ak_zip[\"signal_fit_region\"]).compute()"
   ]
  }
 ],
 "metadata": {
  "kernelspec": {
   "display_name": "Python [conda env:coffea_latest]",
   "language": "python",
   "name": "conda-env-coffea_latest-py"
  },
  "language_info": {
   "codemirror_mode": {
    "name": "ipython",
    "version": 3
   },
   "file_extension": ".py",
   "mimetype": "text/x-python",
   "name": "python",
   "nbconvert_exporter": "python",
   "pygments_lexer": "ipython3",
   "version": "3.12.9"
  }
 },
 "nbformat": 4,
 "nbformat_minor": 5
}
