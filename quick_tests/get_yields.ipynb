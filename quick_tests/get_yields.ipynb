{
 "cells": [
  {
   "cell_type": "code",
   "execution_count": 2,
   "id": "deb50695-99eb-4eff-a8e8-e9d7aa96b93a",
   "metadata": {
    "scrolled": true
   },
   "outputs": [
    {
     "name": "stderr",
     "output_type": "stream",
     "text": [
      "/depot/cms/kernels/coffea_latest/lib/python3.11/site-packages/distributed/node.py:187: UserWarning: Port 8787 is already in use.\n",
      "Perhaps you already have a cluster running?\n",
      "Hosting the HTTP server on port 45369 instead\n",
      "  warnings.warn(\n"
     ]
    }
   ],
   "source": [
    "import dask_awkward as dak\n",
    "import awkward as ak\n",
    "from distributed import LocalCluster, Client, progress\n",
    "import time\n",
    "import numpy as np\n",
    "import matplotlib.pyplot as plt\n",
    "import json\n",
    "import mplhep as hep\n",
    "import glob\n",
    "import pandas as pd\n",
    "\n",
    "plt.style.use(hep.style.CMS)\n",
    "\n",
    "client =  Client(n_workers=15,  threads_per_worker=2, processes=True, memory_limit='8 GiB') \n"
   ]
  },
  {
   "cell_type": "code",
   "execution_count": 3,
   "id": "15d0454e-03f9-4b86-8a28-02b3f03d1134",
   "metadata": {
    "scrolled": true
   },
   "outputs": [
    {
     "name": "stdout",
     "output_type": "stream",
     "text": [
      "file: /depot/cms/users/shar1172/hmm/copperheadV1clean/WithPurdueZptWgt_DYWithoutLHECut_16Feb_AllYear/stage1_output/2018/f1_0/data_C\n",
      "data_yield for /depot/cms/users/shar1172/hmm/copperheadV1clean/WithPurdueZptWgt_DYWithoutLHECut_16Feb_AllYear/stage1_output/2018/f1_0/data_C: 81222\n",
      "file: /depot/cms/users/shar1172/hmm/copperheadV1clean/WithPurdueZptWgt_DYWithoutLHECut_16Feb_AllYear/stage1_output/2018/f1_0/data_A\n",
      "data_yield for /depot/cms/users/shar1172/hmm/copperheadV1clean/WithPurdueZptWgt_DYWithoutLHECut_16Feb_AllYear/stage1_output/2018/f1_0/data_A: 164265\n",
      "file: /depot/cms/users/shar1172/hmm/copperheadV1clean/WithPurdueZptWgt_DYWithoutLHECut_16Feb_AllYear/stage1_output/2018/f1_0/data_B\n",
      "data_yield for /depot/cms/users/shar1172/hmm/copperheadV1clean/WithPurdueZptWgt_DYWithoutLHECut_16Feb_AllYear/stage1_output/2018/f1_0/data_B: 83050\n",
      "file: /depot/cms/users/shar1172/hmm/copperheadV1clean/WithPurdueZptWgt_DYWithoutLHECut_16Feb_AllYear/stage1_output/2018/f1_0/data_D\n",
      "data_yield for /depot/cms/users/shar1172/hmm/copperheadV1clean/WithPurdueZptWgt_DYWithoutLHECut_16Feb_AllYear/stage1_output/2018/f1_0/data_D: 376773\n"
     ]
    },
    {
     "data": {
      "text/plain": [
       "705310"
      ]
     },
     "execution_count": 3,
     "metadata": {},
     "output_type": "execute_result"
    }
   ],
   "source": [
    "\"\"\"\n",
    "This code prints ggH/VBF channel yields after applying category cuts\n",
    "\"\"\"\n",
    "\n",
    "def applyVBF_cutV1(events):\n",
    "    btag_cut =ak.fill_none((events.nBtagLoose_nominal >= 2), value=False) | ak.fill_none((events.nBtagMedium_nominal >= 1), value=False)\n",
    "    vbf_cut = (events.jj_mass_nominal > 400) & (events.jj_dEta_nominal > 2.5) & (events.jet1_pt_nominal > 35) \n",
    "    vbf_cut = ak.fill_none(vbf_cut, value=False)\n",
    "    dimuon_mass = events.dimuon_mass\n",
    "    VBF_filter = (\n",
    "        vbf_cut & \n",
    "        ~btag_cut # btag cut is for VH and ttH categories\n",
    "    )\n",
    "    trues = ak.ones_like(dimuon_mass, dtype=\"bool\")\n",
    "    falses = ak.zeros_like(dimuon_mass, dtype=\"bool\")\n",
    "    events[\"vbf_filter\"] = ak.where(VBF_filter, trues,falses)\n",
    "    return events[VBF_filter]\n",
    "\n",
    "def applyGGH_cutV1(events):\n",
    "    btag_cut =ak.fill_none((events.nBtagLoose_nominal >= 2), value=False) | ak.fill_none((events.nBtagMedium_nominal >= 1), value=False)\n",
    "    vbf_cut = (events.jj_mass_nominal > 400) & (events.jj_dEta_nominal > 2.5) & (events.jet1_pt_nominal > 35) \n",
    "    vbf_cut = ak.fill_none(vbf_cut, value=False)\n",
    "    dimuon_mass = events.dimuon_mass\n",
    "    ggH_filter = (\n",
    "        ~vbf_cut & \n",
    "        ~btag_cut # btag cut is for VH and ttH categories\n",
    "    )\n",
    "    return events[ggH_filter]\n",
    "\n",
    "def filterRegion(events, region=\"h-peak\"):\n",
    "    dimuon_mass = events.dimuon_mass\n",
    "    if region ==\"h-peak\":\n",
    "        region = (dimuon_mass > 115.03) & (dimuon_mass < 135.03)\n",
    "    elif region ==\"h-sidebands\":\n",
    "        region = ((dimuon_mass > 110) & (dimuon_mass < 115.03)) | ((dimuon_mass > 135.03) & (dimuon_mass < 150))\n",
    "    elif region ==\"signal\":\n",
    "        region = (dimuon_mass >= 110) & (dimuon_mass <= 150.0)\n",
    "    elif region ==\"z-peak\":\n",
    "        region = (dimuon_mass >= 70) & (dimuon_mass <= 110.0)\n",
    "\n",
    "    # mu1_pt = events.mu1_pt\n",
    "    # mu1ptOfInterest = (mu1_pt > 75) & (mu1_pt < 150.0)\n",
    "    # events = events[region&mu1ptOfInterest]\n",
    "    events = events[region]\n",
    "    return events\n",
    "\n",
    "V1_fields_2compute = [\n",
    "    \"wgt_nominal\",\n",
    "    \"nBtagLoose_nominal\",\n",
    "    \"nBtagMedium_nominal\",\n",
    "    \"mu1_pt\",\n",
    "    \"mu2_pt\",\n",
    "    \"mu1_eta\",\n",
    "    \"mu2_eta\",\n",
    "    \"mu1_phi\",\n",
    "    \"mu2_phi\",\n",
    "    \"dimuon_pt\",\n",
    "    \"dimuon_eta\",\n",
    "    \"dimuon_phi\",\n",
    "    \"dimuon_mass\",\n",
    "    \"jet1_phi_nominal\",\n",
    "    \"jet1_pt_nominal\",\n",
    "    \"jet2_pt_nominal\",\n",
    "    \"jet2_phi_nominal\",\n",
    "    \"jet1_eta_nominal\",\n",
    "    \"jet2_eta_nominal\",\n",
    "    \"jj_mass_nominal\",\n",
    "    \"jj_dEta_nominal\",\n",
    "    # \"region\",\n",
    "    \"event\",\n",
    "]\n",
    " \n",
    "year = \"2018\"\n",
    "label=\"WithPurdueZptWgt_DYWithoutLHECut_16Feb_AllYear\"\n",
    "load_path =f\"/depot/cms/users/shar1172/hmm/copperheadV1clean/{label}/stage1_output/{year}/f1_0\"\n",
    "# /depot/cms/users/shar1172/hmm/copperheadV1clean/ WithPurdueZptWgt_DYWithoutLHECut_16Feb_AllYear\n",
    "\n",
    "# # events_data = dak.from_parquet(f\"{load_path}/data_D/*.parquet\")\n",
    "# # events_data = dak.from_parquet(f\"{load_path}/data_F/*.parquet\")\n",
    "# # filelist = glob.glob(f\"{load_path}/data_F\")\n",
    "# # filelist = glob.glob(f\"{load_path}/data_*\")\n",
    "filelist = glob.glob(f\"{load_path}/data_*\")\n",
    "\n",
    "total_integral = 0\n",
    "for file in filelist:\n",
    "    print(f\"file: {file}\")\n",
    "    events_data = dak.from_parquet(f\"{file}/*/*.parquet\")\n",
    "\n",
    "    events_data = ak.zip({field: events_data[field] for field in V1_fields_2compute}).compute()\n",
    "    events_data = filterRegion(events_data, region=\"signal\")\n",
    "    events_data = applyGGH_cutV1(events_data)\n",
    "    # events_data = applyVBF_cutV1(events_data)\n",
    "    \n",
    "\n",
    "\n",
    "    \n",
    "    \n",
    "    \n",
    "    \n",
    "    data_yield = ak.num(events_data.dimuon_mass, axis=0)\n",
    "    df = pd.DataFrame({field: ak.fill_none(events_data[field], value=-999.9) for field in events_data.fields})\n",
    "    print(f\"data_yield for {file}: {data_yield}\")\n",
    "    total_integral += data_yield\n",
    "total_integral\n"
   ]
  },
  {
   "cell_type": "code",
   "execution_count": null,
   "id": "ca3d8d24-a3a6-4f7b-81d0-a1127b3624b8",
   "metadata": {},
   "outputs": [],
   "source": []
  }
 ],
 "metadata": {
  "kernelspec": {
   "display_name": "coffea_latest",
   "language": "python",
   "name": "coffea_latest"
  },
  "language_info": {
   "codemirror_mode": {
    "name": "ipython",
    "version": 3
   },
   "file_extension": ".py",
   "mimetype": "text/x-python",
   "name": "python",
   "nbconvert_exporter": "python",
   "pygments_lexer": "ipython3",
   "version": "3.11.11"
  }
 },
 "nbformat": 4,
 "nbformat_minor": 5
}
