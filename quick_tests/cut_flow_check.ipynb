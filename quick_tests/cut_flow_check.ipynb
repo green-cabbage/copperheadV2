{
 "cells": [
  {
   "cell_type": "code",
   "execution_count": null,
   "id": "199c6559-5404-4f89-9268-155741309b36",
   "metadata": {},
   "outputs": [],
   "source": [
    "import numpy as np\n",
    "import matplotlib.pyplot as plt"
   ]
  },
  {
   "cell_type": "code",
   "execution_count": null,
   "id": "edcb44b3-a718-460f-b409-5f2ca0dfc146",
   "metadata": {},
   "outputs": [],
   "source": [
    "import numpy as np\n",
    "import os\n",
    "\n",
    "# npz_path = \"/depot/cms/users/shar1172/hmm/copperheadV1clean/April09_NanoV09//stage1_output/2018/f1_0/\"\n",
    "npz_path = \"/depot/cms/users/shar1172/hmm/copperheadV1clean/April09_NanoV12//stage1_output/2018/f1_0/\"\n",
    "\n",
    "# List of .npz files to combine\n",
    "npz_files = [\n",
    "    f\"{npz_path}/cutflow_data_C_0.npz\",\n",
    "    f\"{npz_path}/cutflow_data_C_1.npz\",\n",
    "    f\"{npz_path}/cutflow_data_C_2.npz\",\n",
    "]\n",
    "\n",
    "# Initialize combined data\n",
    "combined_nevonecut = None\n",
    "combined_nevcutflow = None\n",
    "combined_labels = None\n",
    "\n",
    "# Loop through each file and combine the data\n",
    "for npz_file in npz_files:\n",
    "    print(f\"Loading file: {npz_file}\")\n",
    "    data = np.load(npz_file)\n",
    "    \n",
    "    # Extract counts and labels\n",
    "    nevonecut = data['nevonecut']\n",
    "    nevcutflow = data['nevcutflow']\n",
    "    labels = data['labels']\n",
    "    \n",
    "    # Initialize combined data if not already done\n",
    "    if combined_nevonecut is None:\n",
    "        combined_nevonecut = nevonecut\n",
    "        combined_nevcutflow = nevcutflow\n",
    "        combined_labels = labels\n",
    "    else:\n",
    "        # Ensure labels match across all files\n",
    "        if not np.array_equal(combined_labels, labels):\n",
    "            raise ValueError(f\"Labels in {npz_file} do not match the combined labels!\")\n",
    "        \n",
    "        # Add counts to the combined counts\n",
    "        combined_nevonecut += nevonecut\n",
    "        combined_nevcutflow += nevcutflow\n",
    "\n",
    "\n",
    "# Optional: Print the combined results\n",
    "print(\"\\nCombined Cutflow:\")\n",
    "for label, nevonecut, nevcutflow in zip(combined_labels, combined_nevonecut, combined_nevcutflow):\n",
    "    print(f\"{label:25}: {nevonecut:11} : {nevcutflow}\")"
   ]
  },
  {
   "cell_type": "code",
   "execution_count": null,
   "id": "4b563fbb-3650-4f73-bd6d-9952312357ec",
   "metadata": {},
   "outputs": [],
   "source": [
    "cutflow_file = \"/depot/cms/users/shar1172/hmm/copperheadV1clean/TestCutFlow//stage1_output/2017/cutflow_data_B_0.npz\"\n",
    "\n",
    "with np.load(cutflow_file) as f:\n",
    "    for i in f.files:\n",
    "        print(f\"{i}: {f[i]}\")"
   ]
  },
  {
   "cell_type": "code",
   "execution_count": null,
   "id": "17e8a641-95d3-4c54-b6b4-92e91623eafb",
   "metadata": {},
   "outputs": [],
   "source": [
    "\n",
    "\n",
    "# Plot the cutflow\n",
    "plt.figure(figsize=(10, 6))\n",
    "plt.bar(combined_labels, combined_nevonecut, color='skyblue')\n",
    "plt.xlabel(\"Cuts\", fontsize=12)\n",
    "plt.ylabel(\"Event Counts\", fontsize=12)\n",
    "plt.title(\"Cutflow Analysis\", fontsize=14)\n",
    "plt.xticks(rotation=45, ha='right', fontsize=10)\n",
    "plt.tight_layout()\n",
    "plt.show()\n",
    "\n",
    "# Plot the cutflow\n",
    "plt.figure(figsize=(10, 6))\n",
    "plt.bar(combined_labels, combined_nevcutflow, color='skyblue')\n",
    "plt.xlabel(\"Cuts\", fontsize=12)\n",
    "plt.ylabel(\"Event Counts\", fontsize=12)\n",
    "plt.title(\"Cutflow Analysis\", fontsize=14)\n",
    "plt.xticks(rotation=45, ha='right', fontsize=10)\n",
    "plt.tight_layout()\n",
    "plt.show()"
   ]
  },
  {
   "cell_type": "code",
   "execution_count": null,
   "id": "35c542ee-f741-4215-82cc-8a9642244d4a",
   "metadata": {},
   "outputs": [],
   "source": []
  }
 ],
 "metadata": {
  "kernelspec": {
   "display_name": "coffea_latest",
   "language": "python",
   "name": "coffea_latest"
  },
  "language_info": {
   "codemirror_mode": {
    "name": "ipython",
    "version": 3
   },
   "file_extension": ".py",
   "mimetype": "text/x-python",
   "name": "python",
   "nbconvert_exporter": "python",
   "pygments_lexer": "ipython3",
   "version": "3.12.9"
  }
 },
 "nbformat": 4,
 "nbformat_minor": 5
}
