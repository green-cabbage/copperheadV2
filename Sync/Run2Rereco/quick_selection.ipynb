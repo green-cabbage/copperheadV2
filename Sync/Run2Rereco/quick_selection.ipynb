{
 "cells": [
  {
   "cell_type": "code",
   "execution_count": 1,
   "id": "e58926e9-e716-457c-95a6-66620548d9ff",
   "metadata": {
    "scrolled": true
   },
   "outputs": [],
   "source": [
    "import numpy as np\n",
    "import awkward as ak\n",
    "import glob\n",
    "import dask_awkward as dak\n",
    "from distributed import LocalCluster, Client, progress\n",
    "\n",
    "client =  Client(n_workers=60,  threads_per_worker=1, processes=True, memory_limit='8 GiB') \n"
   ]
  },
  {
   "cell_type": "code",
   "execution_count": 14,
   "id": "170b56f9-fc03-4351-86f6-988ce13842f0",
   "metadata": {},
   "outputs": [],
   "source": [
    "# year = \"2017\"\n",
    "year = \"2016postVFP\"\n",
    "# load_path = \"/depot/cms/users/yun79/hmm/copperheadV1clean/test_test//stage1_output/2018/f1_0/cutflow_data_*\"\n",
    "load_path = f\"/depot/cms/users/yun79/hmm/copperheadV1clean/cutflow_18Apr2025_singleMuTrigMatch//stage1_output/{year}/f1_0/cutflow_*\"\n",
    "filelist = glob.glob(f\"{load_path}/*.parquet\")\n",
    "ak_zip=dak.from_parquet(filelist)"
   ]
  },
  {
   "cell_type": "code",
   "execution_count": 15,
   "id": "a3025e97-02fd-4668-a7b3-520944bc5f15",
   "metadata": {},
   "outputs": [
    {
     "data": {
      "text/plain": [
       "['TotalEntries',\n",
       " 'LumiMaskMetFilterPv',\n",
       " 'HLT_filter',\n",
       " 'muon_base_selection',\n",
       " 'muon_trig_match',\n",
       " 'electron_veto',\n",
       " 'Jet_selection_njetsLeq2',\n",
       " 'HemVeto_filter',\n",
       " 'anti_ttH_btag_cut',\n",
       " 'ggH_cut',\n",
       " 'signal_fit_region']"
      ]
     },
     "execution_count": 15,
     "metadata": {},
     "output_type": "execute_result"
    }
   ],
   "source": [
    "ak_zip.fields"
   ]
  },
  {
   "cell_type": "code",
   "execution_count": 16,
   "id": "d8404009-4efd-4560-98e1-e8a3c0ad27ff",
   "metadata": {
    "scrolled": true
   },
   "outputs": [],
   "source": [
    "# # sig_region_yield = [ak_zip[field][:50] for field in ak_zip.fields]\n",
    "# sig_region_yield = [ak_zip[field] for field in ak_zip.fields]\n",
    "# # sig_region_yield = ak.prod(sig_region_yield)"
   ]
  },
  {
   "cell_type": "code",
   "execution_count": 17,
   "id": "a11160ca-a6a0-406c-96a1-4cd8d2be0c06",
   "metadata": {
    "scrolled": true
   },
   "outputs": [
    {
     "name": "stdout",
     "output_type": "stream",
     "text": [
      "TotalEntries sum: 331976208\n",
      "LumiMaskMetFilterPv sum: 326911885\n",
      "HLT_filter sum: 216656712\n",
      "muon_base_selection sum: 12873562\n",
      "muon_trig_match sum: 12361998\n",
      "electron_veto sum: 12358288\n",
      "Jet_selection_njetsLeq2 sum: 11890536\n",
      "HemVeto_filter sum: 11890536\n",
      "anti_ttH_btag_cut sum: 11780450\n",
      "ggH_cut sum: 11719595\n",
      "signal_fit_region sum: 188430\n"
     ]
    }
   ],
   "source": [
    "sig_region_arr = ak.ones_like(ak_zip.TotalEntries)\n",
    "\n",
    "for field in ak_zip.fields:\n",
    "    # if \"HemVeto\" in field:\n",
    "        # continue\n",
    "    arr = ak_zip[field]\n",
    "    sig_region_arr = sig_region_arr & arr\n",
    "    print(f\"{field} sum: {ak.sum(sig_region_arr).compute()}\")\n",
    "\n",
    "# sig_region_arr = ak.num(sig_region_arr, axis=0).compute()\n",
    "sig_region_arr = ak.sum(sig_region_arr).compute()"
   ]
  },
  {
   "cell_type": "code",
   "execution_count": 2,
   "id": "63f4c7f0-6b44-4da9-9de4-c4f89dc4bfdf",
   "metadata": {},
   "outputs": [],
   "source": [
    "# Rereco\n",
    "\n",
    "year = \"2018\"\n",
    "# year = \"*\"\n",
    "# year = \"2016postVFP\"\n",
    "# load_path = \"/depot/cms/users/yun79/hmm/copperheadV1clean/test_test//stage1_output/2018/f1_0/cutflow_data_*\"\n",
    "# load_path = f\"/depot/cms/users/yun79/hmm/copperheadV1clean/cutflow_rereco_yun_Apr20//stage1_output/{year}/data_B\"\n",
    "load_path = f\"/depot/cms/users/yun79/hmm/copperheadV1clean/cutflow_rereco_yun_Apr22/stage1_output/{year}/data_*\"\n",
    "filelist = glob.glob(f\"{load_path}/*.parquet\")\n",
    "ak_zip=dak.from_parquet(filelist)"
   ]
  },
  {
   "cell_type": "code",
   "execution_count": 3,
   "id": "5c5f61a6-db2b-4841-ac72-6b5e735a8832",
   "metadata": {},
   "outputs": [
    {
     "data": {
      "text/plain": [
       "['TotalEntries',\n",
       " 'LumiMaskMetFilterPv',\n",
       " 'HLT_filter',\n",
       " 'muon_base_selection',\n",
       " 'muon_trig_match',\n",
       " 'electron_veto',\n",
       " 'Jet_selection_njetsLeq2',\n",
       " 'anti_ttH_btag_cut',\n",
       " 'ggH_cut',\n",
       " 'signal_fit_region',\n",
       " 'njets_nominal',\n",
       " 'jet1_pt_nominal',\n",
       " 'jj_mass_nominal',\n",
       " 'jj_dEta_nominal',\n",
       " 'nBtagLoose_nominal',\n",
       " 'nBtagMedium_nominal',\n",
       " 'dataset',\n",
       " 'year']"
      ]
     },
     "execution_count": 3,
     "metadata": {},
     "output_type": "execute_result"
    }
   ],
   "source": [
    "ak_zip.fields"
   ]
  },
  {
   "cell_type": "code",
   "execution_count": null,
   "id": "e871cccf-8948-4271-8f3b-3cbcb4dc8161",
   "metadata": {
    "scrolled": true
   },
   "outputs": [],
   "source": [
    "sig_region_arr = ak.ones_like(ak_zip.TotalEntries)\n",
    "\n",
    "fields2compute = [\n",
    "    'TotalEntries',\n",
    " 'LumiMaskMetFilterPv',\n",
    " 'HLT_filter',\n",
    " 'muon_base_selection',\n",
    " 'muon_trig_match',\n",
    " 'electron_veto',\n",
    " 'Jet_selection_njetsLeq2',\n",
    " 'anti_ttH_btag_cut',\n",
    " 'ggH_cut',\n",
    " 'signal_fit_region',\n",
    "]\n",
    "\n",
    "for field in ak_zip.fields:\n",
    "    #\n",
    "        # continue\n",
    "    if field not in fields2compute:\n",
    "        continue\n",
    "    arr = ak_zip[field]\n",
    "    # print(f\"{field} arr: {arr.compute()}\")\n",
    "    if \"Jet_selection_njetsLeq2\" in field:\n",
    "        sig_region_arr_copy = sig_region_arr & arr # we don't include njets <= 2 in our continuous selection\n",
    "        # print(f\"{field} sum: {ak.sum(sig_region_arr_copy).compute()}\")\n",
    "        \n",
    "    else:\n",
    "        sig_region_arr = sig_region_arr & arr\n",
    "        # print(f\"{field} sum: {ak.sum(sig_region_arr).compute()}\")\n",
    "    \n",
    "print(f\"{field} sum: {ak.sum(sig_region_arr).compute()}\")\n",
    "\n",
    "# sig_region_arr = ak.num(sig_region_arr, axis=0).compute()\n",
    "# sig_region_arr = ak.sum(sig_region_arr).compute()"
   ]
  },
  {
   "cell_type": "code",
   "execution_count": 60,
   "id": "50d9f83f-5711-49c8-8e49-cc82b90be1fb",
   "metadata": {},
   "outputs": [
    {
     "data": {
      "text/html": [
       "<pre>[35.3,\n",
       " 25.6,\n",
       " 0,\n",
       " 40.4,\n",
       " 0,\n",
       " 32.5,\n",
       " 41.2,\n",
       " 0,\n",
       " 0,\n",
       " 0]\n",
       "-------------------\n",
       "backend: cpu\n",
       "nbytes: 120 B\n",
       "type: 10 * ?float32</pre>"
      ],
      "text/plain": [
       "<Array [35.3, 25.6, 0, 40.4, 0, 32.5, 41.2, 0, 0, 0] type='10 * ?float32'>"
      ]
     },
     "execution_count": 60,
     "metadata": {},
     "output_type": "execute_result"
    }
   ],
   "source": [
    "ak_zip[\"jet1_pt_nominal\"][sig_region_arr].compute()\n",
    "# ak_zip[\"njets_nominal\"][sig_region_arr].compute()\n",
    "# ak.max(ak_zip[\"jet1_pt_nominal\"][sig_region_arr]).compute()"
   ]
  },
  {
   "cell_type": "code",
   "execution_count": 62,
   "id": "7ab1b7cd-7dea-43c6-961d-3354a74e8397",
   "metadata": {},
   "outputs": [
    {
     "name": "stdout",
     "output_type": "stream",
     "text": [
      "[35.3, 25.6, 0, 40.4, 0, 32.5, 41.2, 0, 0, 0]\n",
      "[0, 0, 0, 0, 0, 0, 0, 0, 0, 0]\n",
      "[-1, -1, -1, -1, -1, -1, -1, -1, -1, -1]\n",
      "[0, 0, 0, 0, 0, 0, 0, 0, 0, 0]\n",
      "[0, 0, 0, 0, 0, 0, 0, 0, 0, 0]\n",
      "[1, 1, 0, 1, 0, 1, 1, 0, 0, 0]\n"
     ]
    }
   ],
   "source": [
    "# print(ak_zip[\"ggH_cut\"][sig_region_arr].compute())\n",
    "print(ak_zip[\"jet1_pt_nominal\"][sig_region_arr].compute())\n",
    "\n",
    "print(ak_zip[\"jj_mass_nominal\"][sig_region_arr].compute())\n",
    "print(ak_zip[\"jj_dEta_nominal\"][sig_region_arr].compute())\n",
    "print(ak_zip[\"nBtagLoose_nominal\"][sig_region_arr].compute())\n",
    "print(ak_zip[\"nBtagMedium_nominal\"][sig_region_arr].compute())\n",
    "print(ak_zip[\"njets_nominal\"][sig_region_arr].compute())\n"
   ]
  },
  {
   "cell_type": "code",
   "execution_count": 25,
   "id": "8b42e03c-ba1d-4732-b36c-ab3fac670496",
   "metadata": {},
   "outputs": [
    {
     "data": {
      "text/html": [
       "<pre>[2,\n",
       " 1,\n",
       " 1,\n",
       " 0,\n",
       " 1,\n",
       " 0,\n",
       " 1,\n",
       " 1,\n",
       " 0,\n",
       " 0,\n",
       " 0]\n",
       "-------------------\n",
       "backend: cpu\n",
       "nbytes: 176 B\n",
       "type: 11 * ?float64</pre>"
      ],
      "text/plain": [
       "<Array [2, 1, 1, 0, 1, 0, 1, 1, 0, 0, 0] type='11 * ?float64'>"
      ]
     },
     "execution_count": 25,
     "metadata": {},
     "output_type": "execute_result"
    }
   ],
   "source": [
    "ak_zip[\"njets_nominal\"][sig_region_arr&ak_zip.Jet_selection_njetsLeq2].compute()\n"
   ]
  },
  {
   "cell_type": "code",
   "execution_count": 5,
   "id": "8010873c-b0c2-4c81-a6d3-2c0c4b88fcef",
   "metadata": {},
   "outputs": [
    {
     "data": {
      "text/plain": [
       "np.int64(102765)"
      ]
     },
     "execution_count": 5,
     "metadata": {},
     "output_type": "execute_result"
    }
   ],
   "source": [
    "ak.sum(ak_zip[\"signal_fit_region\"]).compute()"
   ]
  },
  {
   "cell_type": "code",
   "execution_count": 88,
   "id": "69e61a28-e9dd-40f1-a8a8-3a3b680df089",
   "metadata": {},
   "outputs": [],
   "source": [
    "# find the root files with the run and lumi of interest\n",
    "import glob\n",
    "load_path = \"/eos/purdue/store/group/local/hmm/nanoAODv6_private/FSRmyNanoProdData2017_NANOV4/SingleMuon/RunIISummer16MiniAODv3_FSRmyNanoProdData2017_NANOV4_un2017B-31Mar2018-v1/*/*\"\n",
    "# load_path = \"/eos/purdue//store/data/Run2017B/SingleMuon/NANOAOD/02Apr2020-v1/*\"\n",
    "filelist =glob.glob(f\"{load_path}/*.root\")"
   ]
  },
  {
   "cell_type": "code",
   "execution_count": 89,
   "id": "a689dbdc-2618-4f24-bb27-7f2b979c9cbb",
   "metadata": {},
   "outputs": [],
   "source": [
    "# filelist"
   ]
  },
  {
   "cell_type": "code",
   "execution_count": 90,
   "id": "689a4a71-4305-4f6a-94af-82000d076a9e",
   "metadata": {},
   "outputs": [],
   "source": [
    "import concurrent.futures\n",
    "import uproot\n",
    "import awkward as ak\n",
    "\n",
    "def getGoodFile(fname, run, luminosityBlock):\n",
    "    up_file = uproot.open(fname) \n",
    "    run_cond = up_file[\"Events\"]['run'].array() == run\n",
    "    run_cond = ak.sum(run_cond) > 0\n",
    "    luminosityBlock_cond = up_file[\"Events\"]['luminosityBlock'].array() ==luminosityBlock\n",
    "    luminosityBlock_cond = ak.sum(luminosityBlock_cond) > 0\n",
    "    if run_cond and luminosityBlock_cond:\n",
    "        return fname # if no problem, return empty string\n",
    "    else:\n",
    "        return \"\" # bad file\n",
    "\n",
    "\n",
    "def getGoodFileParallelize(filelist, run, luminosityBlock, max_workers=60):\n",
    "    file_l_len = len(filelist)\n",
    "    runs = [run for _ in range(file_l_len)]\n",
    "    luminosityBlocks = [luminosityBlock for _ in range(file_l_len)]\n",
    "    with concurrent.futures.ProcessPoolExecutor(max_workers=max_workers) as executor:\n",
    "        # Submit each file check to the executor\n",
    "        results = list(executor.map(getGoodFile, filelist, runs, luminosityBlocks))\n",
    "    \n",
    "    good_file_l = []\n",
    "    for result in results:\n",
    "        if result != \"\":\n",
    "            # print(result)\n",
    "            good_file_l.append(result)\n",
    "    \n",
    "    return good_file_l"
   ]
  },
  {
   "cell_type": "code",
   "execution_count": 91,
   "id": "a3527222-a9e4-445c-9372-8c52349a0413",
   "metadata": {
    "scrolled": true
   },
   "outputs": [
    {
     "data": {
      "text/plain": [
       "['/eos/purdue/store/group/local/hmm/nanoAODv6_private/FSRmyNanoProdData2017_NANOV4/SingleMuon/RunIISummer16MiniAODv3_FSRmyNanoProdData2017_NANOV4_un2017B-31Mar2018-v1/191007_094149/0000/myNanoProdData2017_NANO_281.root',\n",
       " '/eos/purdue/store/group/local/hmm/nanoAODv6_private/FSRmyNanoProdData2017_NANOV4/SingleMuon/RunIISummer16MiniAODv3_FSRmyNanoProdData2017_NANOV4_un2017B-31Mar2018-v1/191007_094149/0000/myNanoProdData2017_NANO_385.root',\n",
       " '/eos/purdue/store/group/local/hmm/nanoAODv6_private/FSRmyNanoProdData2017_NANOV4/SingleMuon/RunIISummer16MiniAODv3_FSRmyNanoProdData2017_NANOV4_un2017B-31Mar2018-v1/191007_094149/0000/myNanoProdData2017_NANO_546.root']"
      ]
     },
     "execution_count": 91,
     "metadata": {},
     "output_type": "execute_result"
    }
   ],
   "source": [
    "getGoodFileParallelize(filelist, 297292, 160)\n"
   ]
  },
  {
   "cell_type": "code",
   "execution_count": null,
   "id": "e016fca6-d5ce-4b41-a519-7256c57b312e",
   "metadata": {},
   "outputs": [],
   "source": [
    "# fname = \"/eos/purdue/store/group/local/hmm/nanoAODv6_private/FSRmyNanoProdData2017_NANOV4/SingleMuon/RunIISummer16MiniAODv3_FSRmyNanoProdData2017_NANOV4_un2017B-31Mar2018-v1/191007_094149/0000/myNanoProdData2017_NANO_546.root\"\n",
    "# up_file = uproot.open(fname) \n",
    "# run_cond = up_file[\"Events\"]['run'].array() == 297292\n",
    "# run_cond = ak.sum(run_cond) > 0\n",
    "# luminosityBlock_cond = up_file[\"Events\"]['luminosityBlock'].array() == 160\n",
    "# luminosityBlock_cond = ak.sum(luminosityBlock_cond) > 0"
   ]
  },
  {
   "cell_type": "code",
   "execution_count": 28,
   "id": "d87be77a-350a-4eed-b197-d1569b50f2de",
   "metadata": {},
   "outputs": [
    {
     "data": {
      "text/plain": [
       "np.True_"
      ]
     },
     "execution_count": 28,
     "metadata": {},
     "output_type": "execute_result"
    }
   ],
   "source": [
    "run_cond and luminosityBlock_cond"
   ]
  },
  {
   "cell_type": "code",
   "execution_count": 29,
   "id": "9977832d-0e6d-440b-b846-607f7db61354",
   "metadata": {},
   "outputs": [
    {
     "data": {
      "text/plain": [
       "np.int64(1)"
      ]
     },
     "execution_count": 29,
     "metadata": {},
     "output_type": "execute_result"
    }
   ],
   "source": [
    "ak.sum(up_file[\"Events\"]['event'].array() ==296455078)"
   ]
  },
  {
   "cell_type": "code",
   "execution_count": null,
   "id": "64a13cd4-fbda-4edb-a377-74974ad4cc58",
   "metadata": {},
   "outputs": [],
   "source": [
    "import pandas as pd\n",
    "\"\"\"\n",
    "Load event dump df from Adish and compare\n",
    "\"\"\"\n",
    "Adish_df = pd.read_csv(\"EventDump_Adish_v2.csv\")\n",
    "df_unique_pairs = Adish_df[[\"run\", \"lumi\"]].drop_duplicates()\n",
    "df_unique_pairs = df_unique_pairs.astype(\"uint32\")\n",
    "df_unique_pairs"
   ]
  },
  {
   "cell_type": "code",
   "execution_count": null,
   "id": "03012b6b-5a94-46e8-9f1e-edc6b497c404",
   "metadata": {},
   "outputs": [],
   "source": [
    "import dask.dataframe as dd\n",
    "import numpy as np\n",
    "    \n",
    "\n",
    "year = \"2017\"\n",
    "label=\"Run2Rereco_synch_Apr23_2025\"\n",
    "load_path =f\"/depot/cms/users/yun79/hmm/copperheadV1clean/{label}/stage1_output/{year}\"\n",
    "\n",
    "my_df = dd.read_parquet(f'{load_path}/data_B/*.parquet')\n",
    "fields2compute = [\n",
    "    \"run\",\n",
    "    \"luminosityBlock\",\n",
    "    \"event\",\n",
    "    \"mu1_pt\",\n",
    "    \"mu1_eta\",\n",
    "    \"mu1_phi\",\n",
    "    \"mu2_pt\",\n",
    "    \"mu2_eta\",\n",
    "    \"mu2_phi\",\n",
    "    \"dimuon_mass\",\n",
    "    \"jet1_pt_nominal\",\n",
    "    \"jet1_eta_nominal\",\n",
    "    \"jet1_phi_nominal\",\n",
    "    \"jet2_pt_nominal\",\n",
    "    \"jet2_eta_nominal\",\n",
    "    \"jet2_phi_nominal\",\n",
    "    \"jj_mass_nominal\",\n",
    "    \"nBtagMedium_nominal\",\n",
    "]\n",
    "print(my_df.columns)\n",
    "my_df = my_df[fields2compute]\n",
    "# my_df = my_df[my_df[\"event\"]==296503858].compute()\n",
    "# my_df\n",
    "my_df = my_df.dropna(subset=[\"mu1_pt\"])\n",
    "\n",
    "my_df = my_df.rename(columns={\"luminosityBlock\": \"lumi\"})\n",
    "my_df = my_df.compute()"
   ]
  },
  {
   "cell_type": "code",
   "execution_count": null,
   "id": "3e5a3673-7713-4d0b-a157-b06d49ffd858",
   "metadata": {},
   "outputs": [],
   "source": [
    "# import pandas as pd\n",
    "\n",
    "\n",
    "# filtered_df_merge = my_df.merge(df_unique_pairs, on=[\"run\", \"lumi\"])\n",
    "# print(filtered_df_merge)\n"
   ]
  },
  {
   "cell_type": "code",
   "execution_count": null,
   "id": "14735e05-71ad-48a6-958f-23b7104ff0fd",
   "metadata": {},
   "outputs": [],
   "source": [
    "# filtered_df_merge.compute()\n",
    "def filter_df(df, lumi, run):\n",
    "    lumi_filter = df[\"lumi\"] == lumi\n",
    "    run_filter = df[\"run\"] == run\n",
    "    return df[lumi_filter & run_filter]\n",
    "lumi_target = 160\n",
    "run_target = 297292\n",
    "my_df = filter_df(my_df, lumi_target, run_target)\n",
    "Adish_df = filter_df(Adish_df, lumi_target, run_target)\n"
   ]
  },
  {
   "cell_type": "code",
   "execution_count": null,
   "id": "9945f54a-368f-4edc-9816-eae357ca726a",
   "metadata": {},
   "outputs": [],
   "source": [
    "# np.sum(my_df[\"event\"] ==296455078)\n",
    "my_df"
   ]
  },
  {
   "cell_type": "code",
   "execution_count": null,
   "id": "e0704db2-78ec-4617-bf7d-1f3e26d709cf",
   "metadata": {},
   "outputs": [],
   "source": [
    "Adish_df"
   ]
  },
  {
   "cell_type": "code",
   "execution_count": null,
   "id": "a517f1d4-67ed-4291-a6cc-15d1992a1175",
   "metadata": {},
   "outputs": [],
   "source": [
    "import matplotlib.pyplot as plt\n",
    "\n",
    "diff = my_df[\"mu1_pt\"] - Adish_df[\"m1pt\"]\n",
    "diff = diff/my_df[\"mu1_pt\"]\n",
    "plt.hist(diff, bins=50, histtype='step', label='Data')\n",
    "# Add labels and title\n",
    "plt.xlabel('Value')\n",
    "plt.ylabel('Entries')\n",
    "plt.title('1D Histogram Example')\n",
    "plt.legend()\n",
    "\n",
    "# Show the plot\n",
    "plt.show()"
   ]
  },
  {
   "cell_type": "code",
   "execution_count": 116,
   "id": "b9e77cc3-fbc6-4776-b6e2-519d7a204ac9",
   "metadata": {},
   "outputs": [
    {
     "data": {
      "text/html": [
       "<div>\n",
       "<style scoped>\n",
       "    .dataframe tbody tr th:only-of-type {\n",
       "        vertical-align: middle;\n",
       "    }\n",
       "\n",
       "    .dataframe tbody tr th {\n",
       "        vertical-align: top;\n",
       "    }\n",
       "\n",
       "    .dataframe thead th {\n",
       "        text-align: right;\n",
       "    }\n",
       "</style>\n",
       "<table border=\"1\" class=\"dataframe\">\n",
       "  <thead>\n",
       "    <tr style=\"text-align: right;\">\n",
       "      <th></th>\n",
       "      <th>run</th>\n",
       "      <th>lumi</th>\n",
       "      <th>event</th>\n",
       "      <th>mu1_pt</th>\n",
       "      <th>mu1_eta</th>\n",
       "      <th>mu1_phi</th>\n",
       "      <th>mu2_pt</th>\n",
       "      <th>mu2_eta</th>\n",
       "      <th>mu2_phi</th>\n",
       "      <th>dimuon_mass</th>\n",
       "      <th>jet1_pt_nominal</th>\n",
       "      <th>jet1_eta_nominal</th>\n",
       "      <th>jet1_phi_nominal</th>\n",
       "      <th>jet2_pt_nominal</th>\n",
       "      <th>jet2_eta_nominal</th>\n",
       "      <th>jet2_phi_nominal</th>\n",
       "      <th>jj_mass_nominal</th>\n",
       "      <th>nBtagMedium_nominal</th>\n",
       "    </tr>\n",
       "    <tr>\n",
       "      <th>entry</th>\n",
       "      <th></th>\n",
       "      <th></th>\n",
       "      <th></th>\n",
       "      <th></th>\n",
       "      <th></th>\n",
       "      <th></th>\n",
       "      <th></th>\n",
       "      <th></th>\n",
       "      <th></th>\n",
       "      <th></th>\n",
       "      <th></th>\n",
       "      <th></th>\n",
       "      <th></th>\n",
       "      <th></th>\n",
       "      <th></th>\n",
       "      <th></th>\n",
       "      <th></th>\n",
       "      <th></th>\n",
       "    </tr>\n",
       "  </thead>\n",
       "  <tbody>\n",
       "  </tbody>\n",
       "</table>\n",
       "</div>"
      ],
      "text/plain": [
       "Empty DataFrame\n",
       "Columns: [run, lumi, event, mu1_pt, mu1_eta, mu1_phi, mu2_pt, mu2_eta, mu2_phi, dimuon_mass, jet1_pt_nominal, jet1_eta_nominal, jet1_phi_nominal, jet2_pt_nominal, jet2_eta_nominal, jet2_phi_nominal, jj_mass_nominal, nBtagMedium_nominal]\n",
       "Index: []"
      ]
     },
     "execution_count": 116,
     "metadata": {},
     "output_type": "execute_result"
    }
   ],
   "source": [
    "import pandas as pd\n",
    "\n",
    "# Example: df_A has more rows than df_B\n",
    "# We want rows in A where 'event' is NOT in B\n",
    "\n",
    "surplus_rows = my_df[~my_df[\"event\"].isin(Adish_df[\"event\"])]\n",
    "surplus_rows"
   ]
  },
  {
   "cell_type": "code",
   "execution_count": 117,
   "id": "b3587434-9dd2-4e28-afa1-ff5dd7df7a1b",
   "metadata": {},
   "outputs": [
    {
     "data": {
      "text/html": [
       "<div>\n",
       "<style scoped>\n",
       "    .dataframe tbody tr th:only-of-type {\n",
       "        vertical-align: middle;\n",
       "    }\n",
       "\n",
       "    .dataframe tbody tr th {\n",
       "        vertical-align: top;\n",
       "    }\n",
       "\n",
       "    .dataframe thead th {\n",
       "        text-align: right;\n",
       "    }\n",
       "</style>\n",
       "<table border=\"1\" class=\"dataframe\">\n",
       "  <thead>\n",
       "    <tr style=\"text-align: right;\">\n",
       "      <th></th>\n",
       "      <th>Unnamed: 0</th>\n",
       "      <th>Row</th>\n",
       "      <th>run</th>\n",
       "      <th>lumi</th>\n",
       "      <th>event</th>\n",
       "      <th>m1pt</th>\n",
       "      <th>m1eta</th>\n",
       "      <th>m1phi</th>\n",
       "      <th>m2pt</th>\n",
       "      <th>m2eta</th>\n",
       "      <th>...</th>\n",
       "      <th>j1pt</th>\n",
       "      <th>j1eta</th>\n",
       "      <th>j1phi</th>\n",
       "      <th>j2pt</th>\n",
       "      <th>j2eta</th>\n",
       "      <th>j2phi</th>\n",
       "      <th>mjj</th>\n",
       "      <th>nbjets</th>\n",
       "      <th>met</th>\n",
       "      <th>Unnamed: 21</th>\n",
       "    </tr>\n",
       "  </thead>\n",
       "  <tbody>\n",
       "  </tbody>\n",
       "</table>\n",
       "<p>0 rows × 22 columns</p>\n",
       "</div>"
      ],
      "text/plain": [
       "Empty DataFrame\n",
       "Columns: [Unnamed: 0, Row, run, lumi, event, m1pt, m1eta, m1phi, m2pt, m2eta, m2phi, mass, j1pt, j1eta, j1phi, j2pt, j2eta, j2phi, mjj, nbjets, met, Unnamed: 21]\n",
       "Index: []\n",
       "\n",
       "[0 rows x 22 columns]"
      ]
     },
     "execution_count": 117,
     "metadata": {},
     "output_type": "execute_result"
    }
   ],
   "source": [
    "Adif_surplus_rows = Adish_df[~Adish_df[\"event\"].isin(my_df[\"event\"])]\n",
    "Adif_surplus_rows \n"
   ]
  },
  {
   "cell_type": "code",
   "execution_count": 93,
   "id": "1021329e-df3a-4451-837c-179447ee9f30",
   "metadata": {},
   "outputs": [
    {
     "name": "stdout",
     "output_type": "stream",
     "text": [
      "Original DataFrame:\n",
      "  entry  subentry     value\n",
      "0     A         0  0.625958\n",
      "1     A         1  0.320118\n",
      "2     A         2  0.172856\n",
      "3     B         3  0.573381\n",
      "4     B         4  0.572318\n",
      "5     C         5  0.691362\n",
      "6     D         6  0.024536\n",
      "7     D         7  0.390214\n",
      "8     D         8  0.069032\n",
      "9     D         9  0.799289\n",
      "\n",
      "Limited to first 2 subentries per entry:\n",
      "  entry  subentry     value\n",
      "0     A         0  0.625958\n",
      "1     A         1  0.320118\n",
      "3     B         3  0.573381\n",
      "4     B         4  0.572318\n",
      "5     C         5  0.691362\n",
      "6     D         6  0.024536\n",
      "7     D         7  0.390214\n",
      "\n",
      "Limited to random 2 subentries per entry:\n",
      "  entry  subentry     value\n",
      "1     A         1  0.320118\n",
      "0     A         0  0.625958\n",
      "3     B         3  0.573381\n",
      "4     B         4  0.572318\n",
      "5     C         5  0.691362\n",
      "6     D         6  0.024536\n",
      "9     D         9  0.799289\n"
     ]
    },
    {
     "name": "stderr",
     "output_type": "stream",
     "text": [
      "/tmp/ipykernel_723707/1085525229.py:21: DeprecationWarning: DataFrameGroupBy.apply operated on the grouping columns. This behavior is deprecated, and in a future version of pandas the grouping columns will be excluded from the operation. Either pass `include_groups=False` to exclude the groupings or explicitly select the grouping columns after groupby to silence this warning.\n",
      "  limited_df_random = df.groupby(\"entry\", group_keys=False).apply(lambda g: g.sample(n=min(2, len(g))))\n"
     ]
    }
   ],
   "source": [
    "import pandas as pd\n",
    "import numpy as np\n",
    "\n",
    "# Create example DataFrame\n",
    "df = pd.DataFrame({\n",
    "    \"entry\": [\"A\", \"A\", \"A\", \"B\", \"B\", \"C\", \"D\", \"D\", \"D\", \"D\"],\n",
    "    \"subentry\": range(10),\n",
    "    \"value\": np.random.rand(10)\n",
    "})\n",
    "\n",
    "print(\"Original DataFrame:\")\n",
    "print(df)\n",
    "\n",
    "# --- Option 1: Keep first two subentries per entry ---\n",
    "limited_df_first = df.groupby(\"entry\", group_keys=False).head(2)\n",
    "\n",
    "print(\"\\nLimited to first 2 subentries per entry:\")\n",
    "print(limited_df_first)\n",
    "\n",
    "# --- Option 2: Keep random two subentries per entry ---\n",
    "limited_df_random = df.groupby(\"entry\", group_keys=False).apply(lambda g: g.sample(n=min(2, len(g))))\n",
    "\n",
    "print(\"\\nLimited to random 2 subentries per entry:\")\n",
    "print(limited_df_random)\n"
   ]
  },
  {
   "cell_type": "code",
   "execution_count": null,
   "id": "b6c00a55-9220-4d36-aac8-85916a86b5d0",
   "metadata": {},
   "outputs": [],
   "source": []
  }
 ],
 "metadata": {
  "kernelspec": {
   "display_name": "Python [conda env:coffea_latest]",
   "language": "python",
   "name": "conda-env-coffea_latest-py"
  },
  "language_info": {
   "codemirror_mode": {
    "name": "ipython",
    "version": 3
   },
   "file_extension": ".py",
   "mimetype": "text/x-python",
   "name": "python",
   "nbconvert_exporter": "python",
   "pygments_lexer": "ipython3",
   "version": "3.12.9"
  }
 },
 "nbformat": 4,
 "nbformat_minor": 5
}
