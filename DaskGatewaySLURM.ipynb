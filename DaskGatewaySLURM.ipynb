{
 "cells": [
  {
   "cell_type": "code",
   "execution_count": 2,
   "id": "275494e4-3a0f-4d26-aafe-8abd771df5b4",
   "metadata": {},
   "outputs": [],
   "source": [
    "import os\n",
    "from dask_gateway import Gateway\n",
    "# gateway = Gateway()\n",
    "gateway = Gateway(\n",
    "    \"http://dask-gateway-k8s.geddes.rcac.purdue.edu/\",\n",
    "    proxy_address=\"traefik-dask-gateway-k8s.cms.geddes.rcac.purdue.edu:8786\",\n",
    ")"
   ]
  },
  {
   "cell_type": "code",
   "execution_count": 3,
   "id": "c1a51702-2fab-4bd6-a4f0-22cf289d5948",
   "metadata": {
    "editable": true,
    "slideshow": {
     "slide_type": ""
    },
    "tags": []
   },
   "outputs": [
    {
     "data": {
      "application/vnd.jupyter.widget-view+json": {
       "model_id": "0f9c111fd88043c4851f89e85bb39589",
       "version_major": 2,
       "version_minor": 0
      },
      "text/plain": [
       "VBox(children=(HTML(value='<h2>GatewayCluster</h2>'), HBox(children=(HTML(value='\\n<div>\\n<style scoped>\\n    …"
      ]
     },
     "metadata": {},
     "output_type": "display_data"
    }
   ],
   "source": [
    "os.environ[\"X509_USER_PROXY\"] = \"/depot/cms/private/users/shar1172/x509up_u2239311\"\n",
    "os.environ[\"PYTHONPATH\"] += \":/depot/cms/users/shar1172/copperheadV2/\"\n",
    "os.environ['XRD_REQUESTTIMEOUT'] = \"2400\"\n",
    "cluster = gateway.new_cluster(\n",
    "    # conda_env = \"/depot/cms/kernels/coffea2024\",\n",
    "    # conda_env = \"/depot/cms/kernels/root632\",\n",
    "    conda_env = \"/depot/cms/kernels/coffea_latest\",\n",
    "    worker_cores = 2, #1\n",
    "    worker_memory = 6, #6\n",
    "    env = dict(os.environ),\n",
    ")\n",
    "\n",
    "# cluster.adapt(100) \n",
    "cluster.adapt(minimum=3, maximum=100)\n",
    "cluster"
   ]
  },
  {
   "cell_type": "code",
   "execution_count": 75,
   "id": "2ff0a848-13af-4176-8b20-fd6c4e53c3f3",
   "metadata": {},
   "outputs": [
    {
     "data": {
      "text/plain": [
       "'/home/shar1172'"
      ]
     },
     "execution_count": 75,
     "metadata": {},
     "output_type": "execute_result"
    }
   ],
   "source": [
    "os.environ['PWD']"
   ]
  },
  {
   "cell_type": "code",
   "execution_count": 1,
   "id": "7509afd5-e613-4dad-99f0-ebcda0453090",
   "metadata": {},
   "outputs": [
    {
     "ename": "NameError",
     "evalue": "name 'gateway' is not defined",
     "output_type": "error",
     "traceback": [
      "\u001b[0;31m---------------------------------------------------------------------------\u001b[0m",
      "\u001b[0;31mNameError\u001b[0m                                 Traceback (most recent call last)",
      "Cell \u001b[0;32mIn[1], line 7\u001b[0m\n\u001b[1;32m      1\u001b[0m \u001b[38;5;124;03m\"\"\"\u001b[39;00m\n\u001b[1;32m      2\u001b[0m \u001b[38;5;124;03mTo shutdown the cluster, run this cell\u001b[39;00m\n\u001b[1;32m      3\u001b[0m \u001b[38;5;124;03mEquivalently, you can also do \"squeue -u <username>\" \u001b[39;00m\n\u001b[1;32m      4\u001b[0m \u001b[38;5;124;03mif this is the only slurm job you're doing\u001b[39;00m\n\u001b[1;32m      5\u001b[0m \u001b[38;5;124;03m\"\"\"\u001b[39;00m\n\u001b[0;32m----> 7\u001b[0m \u001b[38;5;28;01mfor\u001b[39;00m cluster_info \u001b[38;5;129;01min\u001b[39;00m \u001b[43mgateway\u001b[49m\u001b[38;5;241m.\u001b[39mlist_clusters():\n\u001b[1;32m      8\u001b[0m     gateway\u001b[38;5;241m.\u001b[39mconnect(cluster_info\u001b[38;5;241m.\u001b[39mname)\u001b[38;5;241m.\u001b[39mshutdown()\n",
      "\u001b[0;31mNameError\u001b[0m: name 'gateway' is not defined"
     ]
    }
   ],
   "source": [
    "\"\"\"\n",
    "To shutdown the cluster, run this cell\n",
    "Equivalently, you can also do \"squeue -u <username>\" \n",
    "if this is the only slurm job you're doing\n",
    "\"\"\"\n",
    "\n",
    "for cluster_info in gateway.list_clusters():\n",
    "    gateway.connect(cluster_info.name).shutdown()"
   ]
  },
  {
   "cell_type": "code",
   "execution_count": 71,
   "id": "61b1a67a-53d2-4837-b5c4-2fd124dd128f",
   "metadata": {},
   "outputs": [],
   "source": [
    "options = gateway.cluster_options()  "
   ]
  },
  {
   "cell_type": "code",
   "execution_count": 72,
   "id": "add5c117-7590-4546-8fe6-239cab13dd36",
   "metadata": {},
   "outputs": [
    {
     "ename": "AttributeError",
     "evalue": "No option 'fields' available",
     "output_type": "error",
     "traceback": [
      "\u001b[0;31m---------------------------------------------------------------------------\u001b[0m",
      "\u001b[0;31mAttributeError\u001b[0m                            Traceback (most recent call last)",
      "Cell \u001b[0;32mIn[72], line 2\u001b[0m\n\u001b[1;32m      1\u001b[0m \u001b[38;5;66;03m# options.worker_cores\u001b[39;00m\n\u001b[0;32m----> 2\u001b[0m \u001b[43moptions\u001b[49m\u001b[38;5;241;43m.\u001b[39;49m\u001b[43mfields\u001b[49m\n",
      "File \u001b[0;32m/depot/cms/kernels/coffea_latest/lib/python3.11/site-packages/dask_gateway/options.py:110\u001b[0m, in \u001b[0;36mOptions.__getattr__\u001b[0;34m(self, key)\u001b[0m\n\u001b[1;32m    109\u001b[0m \u001b[38;5;28;01mdef\u001b[39;00m \u001b[38;5;21m__getattr__\u001b[39m(\u001b[38;5;28mself\u001b[39m, key):\n\u001b[0;32m--> 110\u001b[0m     \u001b[38;5;28;01mreturn\u001b[39;00m \u001b[38;5;28;43mself\u001b[39;49m\u001b[38;5;241;43m.\u001b[39;49m\u001b[43m_get\u001b[49m\u001b[43m(\u001b[49m\u001b[43mkey\u001b[49m\u001b[43m,\u001b[49m\u001b[43m \u001b[49m\u001b[38;5;167;43;01mAttributeError\u001b[39;49;00m\u001b[43m)\u001b[49m\n",
      "File \u001b[0;32m/depot/cms/kernels/coffea_latest/lib/python3.11/site-packages/dask_gateway/options.py:101\u001b[0m, in \u001b[0;36mOptions._get\u001b[0;34m(self, key, exc_cls)\u001b[0m\n\u001b[1;32m     99\u001b[0m     \u001b[38;5;28;01mreturn\u001b[39;00m \u001b[38;5;28mself\u001b[39m\u001b[38;5;241m.\u001b[39m_fields[key]\u001b[38;5;241m.\u001b[39mget()\n\u001b[1;32m    100\u001b[0m \u001b[38;5;28;01mexcept\u001b[39;00m \u001b[38;5;167;01mKeyError\u001b[39;00m:\n\u001b[0;32m--> 101\u001b[0m     \u001b[38;5;28;01mraise\u001b[39;00m exc_cls(\u001b[38;5;124m\"\u001b[39m\u001b[38;5;124mNo option \u001b[39m\u001b[38;5;132;01m%r\u001b[39;00m\u001b[38;5;124m available\u001b[39m\u001b[38;5;124m\"\u001b[39m \u001b[38;5;241m%\u001b[39m key) \u001b[38;5;28;01mfrom\u001b[39;00m \u001b[38;5;28;01mNone\u001b[39;00m\n",
      "\u001b[0;31mAttributeError\u001b[0m: No option 'fields' available"
     ]
    }
   ],
   "source": [
    "# options.worker_cores\n",
    "options.fields"
   ]
  },
  {
   "cell_type": "code",
   "execution_count": 9,
   "id": "e627d976-e8ae-4d2f-974a-757ea14acf87",
   "metadata": {},
   "outputs": [],
   "source": [
    "! squeue -u yun79"
   ]
  },
  {
   "cell_type": "code",
   "execution_count": 7,
   "id": "3d015374-9431-4718-9eb3-a37a00bb367f",
   "metadata": {},
   "outputs": [
    {
     "data": {
      "text/plain": [
       "':/depot/cms/purdue-af/lhapdf/lib/python3.10/site-packages'"
      ]
     },
     "execution_count": 7,
     "metadata": {},
     "output_type": "execute_result"
    }
   ],
   "source": []
  },
  {
   "cell_type": "code",
   "execution_count": 10,
   "id": "bf00be45-2c6c-4572-8223-3fb8b7d6da5b",
   "metadata": {},
   "outputs": [
    {
     "ename": "IndexError",
     "evalue": "list index out of range",
     "output_type": "error",
     "traceback": [
      "\u001b[0;31m---------------------------------------------------------------------------\u001b[0m",
      "\u001b[0;31mIndexError\u001b[0m                                Traceback (most recent call last)",
      "Cell \u001b[0;32mIn[10], line 1\u001b[0m\n\u001b[0;32m----> 1\u001b[0m cluster_info \u001b[38;5;241m=\u001b[39m \u001b[43mgateway\u001b[49m\u001b[38;5;241;43m.\u001b[39;49m\u001b[43mlist_clusters\u001b[49m\u001b[43m(\u001b[49m\u001b[43m)\u001b[49m\u001b[43m[\u001b[49m\u001b[38;5;241;43m0\u001b[39;49m\u001b[43m]\u001b[49m\u001b[38;5;66;03m# get the first cluster by default. There only should be one anyways\u001b[39;00m\n",
      "\u001b[0;31mIndexError\u001b[0m: list index out of range"
     ]
    }
   ],
   "source": []
  },
  {
   "cell_type": "code",
   "execution_count": 4,
   "id": "da55de8d-c085-4172-a78b-df8162a72d29",
   "metadata": {},
   "outputs": [
    {
     "data": {
      "text/plain": [
       "ClusterReport<name=cms.53445062d37743e190e95ebd5a08fbe2, status=RUNNING>"
      ]
     },
     "execution_count": 4,
     "metadata": {},
     "output_type": "execute_result"
    }
   ],
   "source": []
  },
  {
   "cell_type": "code",
   "execution_count": 5,
   "id": "b65af39c-9be1-474a-811d-eab655e69809",
   "metadata": {},
   "outputs": [
    {
     "name": "stderr",
     "output_type": "stream",
     "text": [
      "2025-02-05 18:12:24,373 - distributed.client - ERROR - Failed to reconnect to scheduler after 30.00 seconds, closing client\n"
     ]
    }
   ],
   "source": []
  },
  {
   "cell_type": "code",
   "execution_count": null,
   "id": "6b83693a-f9dc-4bb9-ac6f-084e04e7cd48",
   "metadata": {},
   "outputs": [],
   "source": []
  },
  {
   "cell_type": "code",
   "execution_count": 68,
   "id": "e65d736e-36aa-4252-bc7b-cea0cdeb861c",
   "metadata": {},
   "outputs": [
    {
     "data": {
      "text/html": [
       "<div>\n",
       "    <div style=\"width: 24px; height: 24px; background-color: #e1e1e1; border: 3px solid #9D9D9D; border-radius: 5px; position: absolute;\"> </div>\n",
       "    <div style=\"margin-left: 48px;\">\n",
       "        <h3 style=\"margin-bottom: 0px;\">Client</h3>\n",
       "        <p style=\"color: #9D9D9D; margin-bottom: 0px;\">Client-3e207e57-e581-11ef-8519-ea17da3621e1</p>\n",
       "        <table style=\"width: 100%; text-align: left;\">\n",
       "\n",
       "        <tr>\n",
       "        \n",
       "            <td style=\"text-align: left;\"><strong>Connection method:</strong> Cluster object</td>\n",
       "            <td style=\"text-align: left;\"><strong>Cluster type:</strong> dask_gateway.GatewayCluster</td>\n",
       "        \n",
       "        </tr>\n",
       "\n",
       "        \n",
       "            <tr>\n",
       "                <td style=\"text-align: left;\">\n",
       "                    <strong>Dashboard: </strong> <a href=\"http://dask-gateway-k8s.geddes.rcac.purdue.edu/clusters/cms.c9ad405539484c828b464f9db551cc68/status\" target=\"_blank\">http://dask-gateway-k8s.geddes.rcac.purdue.edu/clusters/cms.c9ad405539484c828b464f9db551cc68/status</a>\n",
       "                </td>\n",
       "                <td style=\"text-align: left;\"></td>\n",
       "            </tr>\n",
       "        \n",
       "\n",
       "        </table>\n",
       "\n",
       "        \n",
       "\n",
       "        \n",
       "            <details>\n",
       "            <summary style=\"margin-bottom: 20px;\"><h3 style=\"display: inline;\">Cluster Info</h3></summary>\n",
       "            <div style='background-color: #f2f2f2; display: inline-block; padding: 10px; border: 1px solid #999999;'>\n",
       "  <h3>GatewayCluster</h3>\n",
       "  <ul>\n",
       "    <li><b>Name: </b>cms.c9ad405539484c828b464f9db551cc68\n",
       "    <li><b>Dashboard: </b><a href='http://dask-gateway-k8s.geddes.rcac.purdue.edu/clusters/cms.c9ad405539484c828b464f9db551cc68/status' target='_blank'>http://dask-gateway-k8s.geddes.rcac.purdue.edu/clusters/cms.c9ad405539484c828b464f9db551cc68/status</a>\n",
       "  </ul>\n",
       "</div>\n",
       "\n",
       "            </details>\n",
       "        \n",
       "\n",
       "    </div>\n",
       "</div>"
      ],
      "text/plain": [
       "<Client: 'tls://10.5.15.207:8786' processes=2 threads=4, memory=12.00 GiB>"
      ]
     },
     "execution_count": 68,
     "metadata": {},
     "output_type": "execute_result"
    },
    {
     "name": "stderr",
     "output_type": "stream",
     "text": [
      "2025-02-07 23:13:08,959 - distributed.client - ERROR - Failed to reconnect to scheduler after 30.00 seconds, closing client\n"
     ]
    }
   ],
   "source": [
    "from distributed import Client\n",
    "client = Client(cluster)\n",
    "\n",
    "def func(x):\n",
    "    import os, sys\n",
    "    print(x)\n",
    "    from src.lib.fit_functions import getFEWZ_roospline\n",
    "    # return os.environ[\"PYTHONPATH\"]\n",
    "    # os.system(\"ls \")\n",
    "    return sys.path\n",
    "\n",
    "client"
   ]
  },
  {
   "cell_type": "code",
   "execution_count": 69,
   "id": "7e315c31-5092-417b-a869-1e5e33936c1b",
   "metadata": {},
   "outputs": [],
   "source": [
    "result = client.submit(func, [1])"
   ]
  },
  {
   "cell_type": "code",
   "execution_count": 70,
   "id": "74b88dda-139c-4308-80f4-8e44c3b840ad",
   "metadata": {},
   "outputs": [
    {
     "data": {
      "text/plain": [
       "['/tmp/dask-scratch-space/worker-pzxi3jye',\n",
       " '/tmp/dask-scratch-space',\n",
       " '/depot/cms/kernels/coffea_latest/bin',\n",
       " '/home/dask',\n",
       " '/depot/cms/purdue-af/lhapdf/lib/python3.10/site-packages',\n",
       " '/opt/root/lib',\n",
       " '/opt/root/bin',\n",
       " '/depot/users/shar1172/copperheadV2',\n",
       " '/depot/cms/users/shar1172/copperheadV2',\n",
       " '/depot/cms/kernels/coffea_latest/lib/python311.zip',\n",
       " '/depot/cms/kernels/coffea_latest/lib/python3.11',\n",
       " '/depot/cms/kernels/coffea_latest/lib/python3.11/lib-dynload',\n",
       " '/depot/cms/kernels/coffea_latest/lib/python3.11/site-packages']"
      ]
     },
     "execution_count": 70,
     "metadata": {},
     "output_type": "execute_result"
    }
   ],
   "source": [
    "client.gather(result)"
   ]
  },
  {
   "cell_type": "code",
   "execution_count": 54,
   "id": "f53c8a2b-a013-4c17-804b-057825cb570c",
   "metadata": {},
   "outputs": [],
   "source": [
    "from src.lib.fit_functions import getFEWZ_roospline"
   ]
  },
  {
   "cell_type": "code",
   "execution_count": 55,
   "id": "6aba5e1a-4b59-410d-b205-7b2e67b0cc0f",
   "metadata": {},
   "outputs": [
    {
     "name": "stdout",
     "output_type": "stream",
     "text": [
      "SERVICEX_CODE_GEN_PYTHON_PORT_8000_TCP=tcp://10.5.252.202:8000\n",
      "SERVICEX_CODE_GEN_PYTHON_SERVICE_HOST=10.5.252.202\n",
      "SERVICEX_CODE_GEN_PYTHON_PORT_8000_TCP_ADDR=10.5.252.202\n",
      "CONDA_PYTHON_EXE=/opt/conda/bin/python\n",
      "SERVICEX_CODE_GEN_PYTHON_PORT_8000_TCP_PORT=8000\n",
      "SERVICEX_CODE_GEN_PYTHON_PORT_8000_TCP_PROTO=tcp\n",
      "SERVICEX_CODE_GEN_PYTHON_PORT=tcp://10.5.252.202:8000\n",
      "SERVICEX_CODE_GEN_PYTHON_SERVICE_PORT_TCP=8000\n",
      "PYTHONPATH=:/depot/cms/purdue-af/lhapdf/lib/python3.10/site-packages:/opt/root/lib/:/opt/root/bin/:/depot/users/shar1172/copperheadV2/:/depot/users/shar1172/copperheadV2/:/depot/users/shar1172/copperheadV2/:/depot/users/shar1172/copperheadV2/:/depot/users/shar1172/copperheadV2/:/depot/users/shar1172/copperheadV2/:/depot/users/shar1172/copperheadV2/\n",
      "SERVICEX_CODE_GEN_PYTHON_SERVICE_PORT=8000\n",
      "GIT_PYTHON_REFRESH=quiet\n"
     ]
    }
   ],
   "source": [
    "!env | grep PYTHON"
   ]
  },
  {
   "cell_type": "code",
   "execution_count": null,
   "id": "2f504fe2-6885-4814-9487-82401f8e01d6",
   "metadata": {},
   "outputs": [],
   "source": []
  }
 ],
 "metadata": {
  "kernelspec": {
   "display_name": "coffea_latest",
   "language": "python",
   "name": "coffea_latest"
  },
  "language_info": {
   "codemirror_mode": {
    "name": "ipython",
    "version": 3
   },
   "file_extension": ".py",
   "mimetype": "text/x-python",
   "name": "python",
   "nbconvert_exporter": "python",
   "pygments_lexer": "ipython3",
   "version": "3.11.11"
  }
 },
 "nbformat": 4,
 "nbformat_minor": 5
}
