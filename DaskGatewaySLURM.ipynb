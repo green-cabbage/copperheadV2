{
 "cells": [
  {
   "cell_type": "code",
   "execution_count": 1,
   "id": "79fcd8c1-2264-45ac-bf9d-58da85349dba",
   "metadata": {},
   "outputs": [],
   "source": [
    "import os"
   ]
  },
  {
   "cell_type": "code",
   "execution_count": 2,
   "id": "78e6564b-e289-4d3d-9270-13da79dd0c91",
   "metadata": {},
   "outputs": [
    {
     "name": "stdout",
     "output_type": "stream",
     "text": [
      "Username: yun79\n"
     ]
    }
   ],
   "source": [
    "username = os.environ.get(\"USER\") or os.environ.get(\"USERNAME\")\n",
    "if username:\n",
    "    print(f\"Username: {username}\")\n",
    "else:\n",
    "    print(\"Username not found in environment variables.\")\n",
    "    sys.exit()"
   ]
  },
  {
   "cell_type": "code",
   "execution_count": 3,
   "id": "ec0b7c8d-2157-476b-bf16-8c3f36a36997",
   "metadata": {},
   "outputs": [
    {
     "name": "stdout",
     "output_type": "stream",
     "text": [
      "PWD: /work/users/yun79/Run3/copperheadV2\n",
      ":/work/users/yun79/Run3/copperheadV2\n"
     ]
    }
   ],
   "source": [
    "from pathlib import Path\n",
    "cwd = str(Path.cwd())\n",
    "print(f\"PWD: {cwd}\")\n",
    "os.environ[\"PYTHONPATH\"] += f\":{cwd}\"\n",
    "os.environ[\"X509_USER_PROXY\"] = f\"{cwd}/voms_proxy.txt\"\n",
    "os.environ['XRD_REQUESTTIMEOUT'] = \"2400\"\n",
    "!echo $PYTHONPATH"
   ]
  },
  {
   "cell_type": "code",
   "execution_count": 4,
   "id": "275494e4-3a0f-4d26-aafe-8abd771df5b4",
   "metadata": {},
   "outputs": [],
   "source": [
    "from dask_gateway import Gateway\n",
    "# gateway = Gateway()\n",
    "gateway = Gateway(\n",
    "    \"http://dask-gateway-k8s.geddes.rcac.purdue.edu/\",\n",
    "    proxy_address=\"traefik-dask-gateway-k8s.cms.geddes.rcac.purdue.edu:8786\",\n",
    ")"
   ]
  },
  {
   "cell_type": "code",
   "execution_count": 5,
   "id": "b2eb73e1-4c0e-476d-864e-f781b0a331bc",
   "metadata": {},
   "outputs": [],
   "source": [
    "for cluster_info in gateway.list_clusters():\n",
    "    print(cluster_info)"
   ]
  },
  {
   "cell_type": "code",
   "execution_count": 6,
   "id": "c1a51702-2fab-4bd6-a4f0-22cf289d5948",
   "metadata": {
    "editable": true,
    "slideshow": {
     "slide_type": ""
    },
    "tags": []
   },
   "outputs": [
    {
     "name": "stderr",
     "output_type": "stream",
     "text": [
      "/depot/cms/kernels/coffea_latest/lib/python3.12/site-packages/dask_gateway/client.py:702: GatewayWarning: Adapt with `maximum=499, minimum=3` workers would exceed resource limit of 88 workers. Using `maximum=88, minimum=3` instead.\n",
      "  warnings.warn(GatewayWarning(msg[\"msg\"]))\n"
     ]
    },
    {
     "data": {
      "application/vnd.jupyter.widget-view+json": {
       "model_id": "b5653ea21f1f42eebc2aab180b008001",
       "version_major": 2,
       "version_minor": 0
      },
      "text/plain": [
       "VBox(children=(HTML(value='<h2>GatewayCluster</h2>'), HBox(children=(HTML(value='\\n<div>\\n<style scoped>\\n    …"
      ]
     },
     "metadata": {},
     "output_type": "display_data"
    }
   ],
   "source": [
    "cluster = gateway.new_cluster(\n",
    "    # conda_env = \"/depot/cms/kernels/coffea2024\",\n",
    "    # conda_env = \"/depot/cms/kernels/root632\",\n",
    "    # conda_env = \"/depot/cms/kernels/coffea_latest\",\n",
    "    conda_env = \"/depot/cms/users/yun79/conda_envs/yun_coffea_latest\",\n",
    "    worker_cores = 1, #2\n",
    "    worker_memory = 6, #6\n",
    "    env = dict(os.environ),\n",
    ")\n",
    "\n",
    "cluster.adapt(minimum=3, maximum=499) # 399 for low resources, otherwise 199\n",
    "cluster\n",
    "# cluster.adapt(100) "
   ]
  },
  {
   "cell_type": "code",
   "execution_count": null,
   "id": "d6fc0cd8-29ba-4552-b3e4-e81539318878",
   "metadata": {},
   "outputs": [],
   "source": [
    "for cluster_info in gateway.list_clusters():\n",
    "    print(cluster_info)"
   ]
  },
  {
   "cell_type": "code",
   "execution_count": 7,
   "id": "94ab7961-ec12-4a2e-843e-c27d6ecd6c0f",
   "metadata": {},
   "outputs": [],
   "source": [
    "\"\"\"\n",
    "To shutdown the cluster, run this cell\n",
    "Equivalently, you can also do \"squeue -u <username>\" \n",
    "if this is the only slurm job you're doing\n",
    "\"\"\"\n",
    "\n",
    "for cluster_info in gateway.list_clusters():\n",
    "    gateway.connect(cluster_info.name).shutdown()"
   ]
  },
  {
   "cell_type": "code",
   "execution_count": null,
   "id": "3d015374-9431-4718-9eb3-a37a00bb367f",
   "metadata": {},
   "outputs": [],
   "source": [
    "for cluster_info in gateway.list_clusters():\n",
    "    print(cluster_info)"
   ]
  },
  {
   "cell_type": "code",
   "execution_count": null,
   "id": "61b1a67a-53d2-4837-b5c4-2fd124dd128f",
   "metadata": {},
   "outputs": [],
   "source": [
    "options = gateway.cluster_options()  "
   ]
  },
  {
   "cell_type": "code",
   "execution_count": null,
   "id": "add5c117-7590-4546-8fe6-239cab13dd36",
   "metadata": {},
   "outputs": [],
   "source": [
    "# options.worker_cores\n",
    "print(options)"
   ]
  },
  {
   "cell_type": "code",
   "execution_count": null,
   "id": "e627d976-e8ae-4d2f-974a-757ea14acf87",
   "metadata": {},
   "outputs": [],
   "source": [
    "! squeue -u shar1172"
   ]
  },
  {
   "cell_type": "code",
   "execution_count": null,
   "id": "6342ed65-d893-453b-be19-c7eee90fa848",
   "metadata": {},
   "outputs": [],
   "source": []
  }
 ],
 "metadata": {
  "kernelspec": {
   "display_name": "coffea_latest",
   "language": "python",
   "name": "coffea_latest"
  },
  "language_info": {
   "codemirror_mode": {
    "name": "ipython",
    "version": 3
   },
   "file_extension": ".py",
   "mimetype": "text/x-python",
   "name": "python",
   "nbconvert_exporter": "python",
   "pygments_lexer": "ipython3",
   "version": "3.12.9"
  }
 },
 "nbformat": 4,
 "nbformat_minor": 5
}
