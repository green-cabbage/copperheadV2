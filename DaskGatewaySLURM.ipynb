{
 "cells": [
  {
   "cell_type": "code",
   "execution_count": 8,
   "id": "79fcd8c1-2264-45ac-bf9d-58da85349dba",
   "metadata": {},
   "outputs": [],
   "source": [
    "import os"
   ]
  },
  {
   "cell_type": "code",
   "execution_count": 9,
   "id": "78e6564b-e289-4d3d-9270-13da79dd0c91",
   "metadata": {},
   "outputs": [
    {
     "name": "stdout",
     "output_type": "stream",
     "text": [
      "Username: yun79\n"
     ]
    }
   ],
   "source": [
    "username = os.environ.get(\"USER\") or os.environ.get(\"USERNAME\")\n",
    "if username:\n",
    "    print(f\"Username: {username}\")\n",
    "else:\n",
    "    print(\"Username not found in environment variables.\")\n",
    "    sys.exit()"
   ]
  },
  {
   "cell_type": "code",
   "execution_count": 10,
   "id": "ec0b7c8d-2157-476b-bf16-8c3f36a36997",
   "metadata": {},
   "outputs": [
    {
     "name": "stdout",
     "output_type": "stream",
     "text": [
      "PWD: /work/users/yun79/Run3/copperheadV2\n",
      ":/depot/cms/purdue-af/lhapdf/lib/python3.10/site-packages:/depot/cms/purdue-af/combine/HiggsAnalysis/CombinedLimit/build/lib/python:/depot/cms/purdue-af/combine/HiggsAnalysis/CombinedLimit/build/lib/python:/work/users/yun79/Run3/copperheadV2:/work/users/yun79/Run3/copperheadV2\n"
     ]
    }
   ],
   "source": [
    "from pathlib import Path\n",
    "cwd = str(Path.cwd())\n",
    "print(f\"PWD: {cwd}\")\n",
    "os.environ[\"PYTHONPATH\"] += f\":{cwd}\"\n",
    "os.environ[\"X509_USER_PROXY\"] = f\"{cwd}/voms_proxy.txt\"\n",
    "os.environ['XRD_REQUESTTIMEOUT'] = \"2400\"\n",
    "!echo $PYTHONPATH"
   ]
  },
  {
   "cell_type": "code",
   "execution_count": 11,
   "id": "275494e4-3a0f-4d26-aafe-8abd771df5b4",
   "metadata": {},
   "outputs": [],
   "source": [
    "from dask_gateway import Gateway\n",
    "# gateway = Gateway()\n",
    "gateway = Gateway(\n",
    "    \"http://dask-gateway-k8s.geddes.rcac.purdue.edu/\",\n",
    "    proxy_address=\"traefik-dask-gateway-k8s.cms.geddes.rcac.purdue.edu:8786\",\n",
    ")"
   ]
  },
  {
   "cell_type": "code",
   "execution_count": 12,
   "id": "b2eb73e1-4c0e-476d-864e-f781b0a331bc",
   "metadata": {},
   "outputs": [],
   "source": [
    "for cluster_info in gateway.list_clusters():\n",
    "    print(cluster_info)"
   ]
  },
  {
   "cell_type": "code",
   "execution_count": 45,
   "id": "c1a51702-2fab-4bd6-a4f0-22cf289d5948",
   "metadata": {
    "editable": true,
    "slideshow": {
     "slide_type": ""
    },
    "tags": []
   },
   "outputs": [
    {
     "data": {
      "application/vnd.jupyter.widget-view+json": {
       "model_id": "914fab0bd7054234b44afcbd1c17c5f6",
       "version_major": 2,
       "version_minor": 0
      },
      "text/plain": [
       "VBox(children=(HTML(value='<h2>GatewayCluster</h2>'), HBox(children=(HTML(value='\\n<div>\\n<style scoped>\\n    …"
      ]
     },
     "metadata": {},
     "output_type": "display_data"
    }
   ],
   "source": [
    "cluster = gateway.new_cluster(\n",
    "    # conda_env = \"/depot/cms/kernels/coffea2024\",\n",
    "    # conda_env = \"/depot/cms/kernels/root632\",\n",
    "    # conda_env = \"/depot/cms/kernels/coffea_latest\",\n",
    "    conda_env = \"/depot/cms/users/yun79/conda_envs/yun_coffea_latest\",\n",
    "    worker_cores = 1, #2\n",
    "    worker_memory = 5, #4\n",
    "    env = dict(os.environ),\n",
    ")\n",
    "\n",
    "# cluster.adapt(minimum=12, maximum=499) # 399 for low resources, otherwise 199\n",
    "# cluster.adapt(minimum=30, maximum=499) # 399 for low resources, otherwise 199\n",
    "cluster.adapt(minimum=20, maximum=499) # 399 for low resources, otherwise 199\n",
    "cluster\n",
    "# cluster.adapt(100) "
   ]
  },
  {
   "cell_type": "code",
   "execution_count": 46,
   "id": "d6fc0cd8-29ba-4552-b3e4-e81539318878",
   "metadata": {},
   "outputs": [
    {
     "name": "stdout",
     "output_type": "stream",
     "text": [
      "ClusterReport<name=cms.13a4d2441d814dfb80e13e6e610a41d8, status=RUNNING>\n"
     ]
    }
   ],
   "source": [
    "for cluster_info in gateway.list_clusters():\n",
    "    print(cluster_info)"
   ]
  },
  {
   "cell_type": "code",
   "execution_count": 44,
   "id": "94ab7961-ec12-4a2e-843e-c27d6ecd6c0f",
   "metadata": {},
   "outputs": [],
   "source": [
    "\"\"\"\n",
    "To shutdown the cluster, run this cell\n",
    "Equivalently, you can also do \"squeue -u <username>\" \n",
    "if this is the only slurm job you're doing\n",
    "\"\"\"\n",
    "\n",
    "for cluster_info in gateway.list_clusters():\n",
    "    gateway.connect(cluster_info.name).shutdown()"
   ]
  },
  {
   "cell_type": "code",
   "execution_count": null,
   "id": "3d015374-9431-4718-9eb3-a37a00bb367f",
   "metadata": {},
   "outputs": [],
   "source": [
    "for cluster_info in gateway.list_clusters():\n",
    "    print(cluster_info)"
   ]
  },
  {
   "cell_type": "code",
   "execution_count": null,
   "id": "61b1a67a-53d2-4837-b5c4-2fd124dd128f",
   "metadata": {},
   "outputs": [],
   "source": [
    "options = gateway.cluster_options()  "
   ]
  },
  {
   "cell_type": "code",
   "execution_count": 3,
   "id": "6342ed65-d893-453b-be19-c7eee90fa848",
   "metadata": {},
   "outputs": [],
   "source": [
    "training_features = [\n",
    "        \"dimuon_mass\",\n",
    "        \"dimuon_pt\",\n",
    "        \"dimuon_pt_log\",\n",
    "        \"dimuon_rapidity\",\n",
    "        \"dimuon_ebe_mass_res\",\n",
    "        \"dimuon_ebe_mass_res_rel\",\n",
    "        \"dimuon_cos_theta_cs\",\n",
    "        \"dimuon_phi_cs\",\n",
    "        \"jet1_pt\",\n",
    "        \"jet1_eta\",\n",
    "        \"jet1_phi\",\n",
    "        \"jet1_qgl\",\n",
    "        \"jet2_pt\",\n",
    "        \"jet2_eta\",\n",
    "        \"jet2_phi\",\n",
    "        \"jet2_qgl\",\n",
    "        \"jj_mass\",\n",
    "        \"jj_mass_log\",\n",
    "        \"jj_dEta\",\n",
    "        \"rpt\",\n",
    "        \"ll_zstar_log\",\n",
    "        \"mmj_min_dEta\",\n",
    "        \"nsoftjets5\", # replace nsoftjets5 with 2 bc VBF BDT input\n",
    "        \"htsoft2\",\n",
    "        \"pt_centrality\",\n",
    "        \"year\",\n",
    "]"
   ]
  },
  {
   "cell_type": "code",
   "execution_count": 4,
   "id": "fd3bd604-b2f8-40f4-aea3-26eb1ee2c4f8",
   "metadata": {},
   "outputs": [
    {
     "data": {
      "text/plain": [
       "26"
      ]
     },
     "execution_count": 4,
     "metadata": {},
     "output_type": "execute_result"
    }
   ],
   "source": [
    "len(training_features)"
   ]
  },
  {
   "cell_type": "code",
   "execution_count": null,
   "id": "eea8bc09-a7ce-43b8-bb16-457341e9776d",
   "metadata": {},
   "outputs": [],
   "source": []
  }
 ],
 "metadata": {
  "kernelspec": {
   "display_name": "Python [conda env:root632]",
   "language": "python",
   "name": "conda-env-root632-py"
  },
  "language_info": {
   "codemirror_mode": {
    "name": "ipython",
    "version": 3
   },
   "file_extension": ".py",
   "mimetype": "text/x-python",
   "name": "python",
   "nbconvert_exporter": "python",
   "pygments_lexer": "ipython3",
   "version": "3.12.7"
  }
 },
 "nbformat": 4,
 "nbformat_minor": 5
}
