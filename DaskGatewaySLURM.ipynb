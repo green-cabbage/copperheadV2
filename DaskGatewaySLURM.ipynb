{
 "cells": [
  {
   "cell_type": "code",
   "execution_count": 2,
   "id": "275494e4-3a0f-4d26-aafe-8abd771df5b4",
   "metadata": {},
   "outputs": [],
   "source": [
    "import os\n",
    "from dask_gateway import Gateway\n",
    "# gateway = Gateway()\n",
    "gateway = Gateway(\n",
    "    \"http://dask-gateway-k8s.geddes.rcac.purdue.edu/\",\n",
    "    proxy_address=\"traefik-dask-gateway-k8s.cms.geddes.rcac.purdue.edu:8786\",\n",
    ")"
   ]
  },
  {
   "cell_type": "code",
   "execution_count": 6,
   "id": "b2eb73e1-4c0e-476d-864e-f781b0a331bc",
   "metadata": {},
   "outputs": [],
   "source": [
    "for cluster_info in gateway.list_clusters():\n",
    "    print(cluster_info)"
   ]
  },
  {
   "cell_type": "code",
   "execution_count": 7,
   "id": "c1a51702-2fab-4bd6-a4f0-22cf289d5948",
   "metadata": {
    "editable": true,
    "slideshow": {
     "slide_type": ""
    },
    "tags": []
   },
   "outputs": [],
   "source": [
    "os.environ[\"X509_USER_PROXY\"] = \"/depot/cms/private/users/shar1172/x509up_u2239311\"\n",
    "os.environ[\"PYTHONPATH\"] += \":/depot/cms/users/shar1172/copperheadV2/\"\n",
    "os.environ['XRD_REQUESTTIMEOUT'] = \"2400\"\n",
    "cluster = gateway.new_cluster(\n",
    "    # conda_env = \"/depot/cms/kernels/coffea2024\",\n",
    "    # conda_env = \"/depot/cms/kernels/root632\",\n",
    "    conda_env = \"/depot/cms/kernels/coffea_latest\",\n",
    "    worker_cores = 2, #1\n",
    "    worker_memory = 6, #6\n",
    "    env = dict(os.environ),\n",
    ")\n",
    "\n",
    "# cluster.adapt(100) \n"
   ]
  },
  {
   "cell_type": "code",
   "execution_count": 8,
   "id": "f281193a-6e0d-44f9-8edd-34bb49454eab",
   "metadata": {},
   "outputs": [
    {
     "data": {
      "application/vnd.jupyter.widget-view+json": {
       "model_id": "e2490348428c4cc8aac47f0d21d5f5e8",
       "version_major": 2,
       "version_minor": 0
      },
      "text/plain": [
       "VBox(children=(HTML(value='<h2>GatewayCluster</h2>'), HBox(children=(HTML(value='\\n<div>\\n<style scoped>\\n    …"
      ]
     },
     "metadata": {},
     "output_type": "display_data"
    }
   ],
   "source": [
    "cluster.adapt(minimum=3, maximum=100)\n",
    "cluster"
   ]
  },
  {
   "cell_type": "code",
   "execution_count": 9,
   "id": "d6fc0cd8-29ba-4552-b3e4-e81539318878",
   "metadata": {},
   "outputs": [
    {
     "name": "stdout",
     "output_type": "stream",
     "text": [
      "ClusterReport<name=cms.243fb482b73146018e726148399c405a, status=RUNNING>\n"
     ]
    }
   ],
   "source": [
    "for cluster_info in gateway.list_clusters():\n",
    "    print(cluster_info)"
   ]
  },
  {
   "cell_type": "code",
   "execution_count": null,
   "id": "7bb7fe43-762d-4c18-beee-5475285989fb",
   "metadata": {},
   "outputs": [],
   "source": []
  },
  {
   "cell_type": "code",
   "execution_count": 15,
   "id": "2ff0a848-13af-4176-8b20-fd6c4e53c3f3",
   "metadata": {},
   "outputs": [
    {
     "data": {
      "text/plain": [
       "'/home/shar1172'"
      ]
     },
     "execution_count": 15,
     "metadata": {},
     "output_type": "execute_result"
    }
   ],
   "source": [
    "os.environ['PWD']"
   ]
  },
  {
   "cell_type": "code",
   "execution_count": 4,
   "id": "7509afd5-e613-4dad-99f0-ebcda0453090",
   "metadata": {},
   "outputs": [],
   "source": [
    "\"\"\"\n",
    "To shutdown the cluster, run this cell\n",
    "Equivalently, you can also do \"squeue -u <username>\" \n",
    "if this is the only slurm job you're doing\n",
    "\"\"\"\n",
    "\n",
    "for cluster_info in gateway.list_clusters():\n",
    "    gateway.connect(cluster_info.name).shutdown()"
   ]
  },
  {
   "cell_type": "code",
   "execution_count": 5,
   "id": "3d015374-9431-4718-9eb3-a37a00bb367f",
   "metadata": {},
   "outputs": [],
   "source": [
    "for cluster_info in gateway.list_clusters():\n",
    "    print(cluster_info)"
   ]
  },
  {
   "cell_type": "code",
   "execution_count": 16,
   "id": "61b1a67a-53d2-4837-b5c4-2fd124dd128f",
   "metadata": {},
   "outputs": [],
   "source": [
    "options = gateway.cluster_options()  "
   ]
  },
  {
   "cell_type": "code",
   "execution_count": 18,
   "id": "add5c117-7590-4546-8fe6-239cab13dd36",
   "metadata": {},
   "outputs": [
    {
     "name": "stdout",
     "output_type": "stream",
     "text": [
      "<dask_gateway.options.Options object at 0x7f59042a3e90>\n"
     ]
    }
   ],
   "source": [
    "# options.worker_cores\n",
    "print(options)"
   ]
  },
  {
   "cell_type": "code",
   "execution_count": 19,
   "id": "e627d976-e8ae-4d2f-974a-757ea14acf87",
   "metadata": {},
   "outputs": [
    {
     "name": "stdout",
     "output_type": "stream",
     "text": [
      "             JOBID PARTITION     NAME     USER ST       TIME  NODES NODELIST(REASON)\n"
     ]
    }
   ],
   "source": [
    "! squeue -u shar1172"
   ]
  },
  {
   "cell_type": "code",
   "execution_count": null,
   "id": "6342ed65-d893-453b-be19-c7eee90fa848",
   "metadata": {},
   "outputs": [],
   "source": []
  }
 ],
 "metadata": {
  "kernelspec": {
   "display_name": "coffea_latest",
   "language": "python",
   "name": "coffea_latest"
  },
  "language_info": {
   "codemirror_mode": {
    "name": "ipython",
    "version": 3
   },
   "file_extension": ".py",
   "mimetype": "text/x-python",
   "name": "python",
   "nbconvert_exporter": "python",
   "pygments_lexer": "ipython3",
   "version": "3.11.11"
  }
 },
 "nbformat": 4,
 "nbformat_minor": 5
}
