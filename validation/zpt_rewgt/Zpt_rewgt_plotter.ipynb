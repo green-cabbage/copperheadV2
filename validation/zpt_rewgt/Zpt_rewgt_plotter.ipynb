{
 "cells": [
  {
   "cell_type": "markdown",
   "id": "68f14fb3-aa01-4206-bb5c-b44940dea8fe",
   "metadata": {},
   "source": [
    "# Zpt re-wgt Validation\n",
    "\n",
    "This notebook shows the script to plot ZpT-rewgt validation code to verify that the Zpt-rewgt has been properly generated\n",
    "\n",
    "This script is inspired from validation_plotter_unified.py, and thus share a lot of same formatting.\n",
    "\n"
   ]
  },
  {
   "cell_type": "code",
   "execution_count": 1,
   "id": "3506c3fc-ce59-4558-a715-ddbf6208a509",
   "metadata": {},
   "outputs": [],
   "source": [
    "data_l = ['A', 'B', 'C', 'D']\n",
    "bkg_l = ['DY']\n",
    "# bkg_l = ['DY','TT','ST','VV']\n",
    "# sig_l = ['ggH', 'VBF']\n",
    "sig_l = []\n",
    "\n",
    "vars2plot = ['dimuon']\n",
    "\n",
    "lumi_dict = {\n",
    "    \"2018\" : 59.83,\n",
    "    \"2017\" : 41.48,\n",
    "    \"2016postVFP\": 19.5,\n",
    "    \"2016preVFP\": 16.81,\n",
    "}\n",
    "status = \"Private_Work\"\n",
    "region = \"signal\""
   ]
  },
  {
   "cell_type": "code",
   "execution_count": 2,
   "id": "b6413681-2f64-472d-b5f5-6202dd8b8200",
   "metadata": {},
   "outputs": [],
   "source": [
    "import awkward as ak"
   ]
  },
  {
   "cell_type": "code",
   "execution_count": 3,
   "id": "d1a7ed8a-1579-4d7d-8978-2bb04192472b",
   "metadata": {
    "scrolled": true
   },
   "outputs": [
    {
     "name": "stdout",
     "output_type": "stream",
     "text": [
      "Traceback (most recent call last):\n",
      "  File \"/depot/cms/private/users/shar1172/copperheadV2/zpt_validation_plotter.py\", line 1, in <module>\n",
      "    import awkward as ak\n",
      "ModuleNotFoundError: No module named 'awkward'\n",
      "Traceback (most recent call last):\n",
      "  File \"/depot/cms/private/users/shar1172/copperheadV2/zpt_validation_plotter.py\", line 1, in <module>\n",
      "    import awkward as ak\n",
      "ModuleNotFoundError: No module named 'awkward'\n",
      "Traceback (most recent call last):\n",
      "  File \"/depot/cms/private/users/shar1172/copperheadV2/zpt_validation_plotter.py\", line 1, in <module>\n",
      "    import awkward as ak\n",
      "ModuleNotFoundError: No module named 'awkward'\n",
      "Traceback (most recent call last):\n",
      "  File \"/depot/cms/private/users/shar1172/copperheadV2/zpt_validation_plotter.py\", line 1, in <module>\n",
      "    import awkward as ak\n",
      "ModuleNotFoundError: No module named 'awkward'\n",
      "Traceback (most recent call last):\n",
      "  File \"/depot/cms/private/users/shar1172/copperheadV2/zpt_validation_plotter.py\", line 1, in <module>\n",
      "    import awkward as ak\n",
      "ModuleNotFoundError: No module named 'awkward'\n",
      "Traceback (most recent call last):\n",
      "  File \"/depot/cms/private/users/shar1172/copperheadV2/zpt_validation_plotter.py\", line 1, in <module>\n",
      "    import awkward as ak\n",
      "ModuleNotFoundError: No module named 'awkward'\n",
      "Traceback (most recent call last):\n",
      "  File \"/depot/cms/private/users/shar1172/copperheadV2/zpt_validation_plotter.py\", line 1, in <module>\n",
      "    import awkward as ak\n",
      "ModuleNotFoundError: No module named 'awkward'\n",
      "Traceback (most recent call last):\n",
      "  File \"/depot/cms/private/users/shar1172/copperheadV2/zpt_validation_plotter.py\", line 1, in <module>\n",
      "    import awkward as ak\n",
      "ModuleNotFoundError: No module named 'awkward'\n"
     ]
    }
   ],
   "source": [
    "\"\"\"\n",
    "First we plot Zpt off stage1 plots to match AN-19-124 fig 4.3\n",
    "\"\"\"\n",
    "# label = \"V2_Jan09_ForZptReWgt\"\n",
    "# label = \"V2_Jan17_JecDefault_plotEveryonesZptWgt\"\n",
    "label = \"V2_Jan22_JecDefault_plotEveryonesZptWgt\"\n",
    "\n",
    "year = \"2018\"\n",
    "# year = \"2017\"\n",
    "# year = \"2016postVFP\"\n",
    "# year = \"2016preVFP\"\n",
    "lumi = lumi_dict[year]\n",
    "# load_path = f\"/depot/cms/users/yun79/hmm/copperheadV1clean/{label}/stage1_output/{year}/f1_0/\"\n",
    "load_path = \"/depot/cms/users/shar1172/hmm/copperhead_outputs_11Feb/stage1_output/2018/f1_0/\"\n",
    "plot_setting = \"./plot_settings_Zpt_reWgt.json\"\n",
    "\n",
    "keep_zpt_on = True # dummy value\n",
    "\n",
    "\n",
    "njet = -1\n",
    "\n",
    "zpt_name = \"yes_zpt\"\n",
    "! python zpt_validation_plotter.py -y {year} --load_path {load_path}  -var {' '.join(vars2plot)} --data {' '.join(data_l)} --background {' '.join(bkg_l)} --signal {' '.join(sig_l)} --lumi {lumi} --status {status} -cat nocat -reg {region} --label {label} --plot_setting {plot_setting} --zpt_on {keep_zpt_on} --jet_multiplicity {njet} --zpt_wgt_name {zpt_name}\n",
    "\n",
    "zpt_name = \"no_zpt\"\n",
    "! python zpt_validation_plotter.py -y {year} --load_path {load_path}  -var {' '.join(vars2plot)} --data {' '.join(data_l)} --background {' '.join(bkg_l)} --signal {' '.join(sig_l)} --lumi {lumi} --status {status} -cat nocat -reg {region} --label {label} --plot_setting {plot_setting} --zpt_on {keep_zpt_on} --jet_multiplicity {njet} --zpt_wgt_name {zpt_name}\n",
    "\n",
    "\n",
    "njet = 0\n",
    "\n",
    "zpt_name = \"yes_zpt\"\n",
    "! python zpt_validation_plotter.py -y {year} --load_path {load_path}  -var {' '.join(vars2plot)} --data {' '.join(data_l)} --background {' '.join(bkg_l)} --signal {' '.join(sig_l)} --lumi {lumi} --status {status} -cat nocat -reg {region} --label {label} --plot_setting {plot_setting} --zpt_on {keep_zpt_on} --jet_multiplicity {njet} --zpt_wgt_name {zpt_name}\n",
    "\n",
    "zpt_name = \"no_zpt\"\n",
    "! python zpt_validation_plotter.py -y {year} --load_path {load_path}  -var {' '.join(vars2plot)} --data {' '.join(data_l)} --background {' '.join(bkg_l)} --signal {' '.join(sig_l)} --lumi {lumi} --status {status} -cat nocat -reg {region} --label {label} --plot_setting {plot_setting} --zpt_on {keep_zpt_on} --jet_multiplicity {njet} --zpt_wgt_name {zpt_name}\n",
    "\n",
    "njet = 1\n",
    "\n",
    "zpt_name = \"yes_zpt\"\n",
    "! python zpt_validation_plotter.py -y {year} --load_path {load_path}  -var {' '.join(vars2plot)} --data {' '.join(data_l)} --background {' '.join(bkg_l)} --signal {' '.join(sig_l)} --lumi {lumi} --status {status} -cat nocat -reg {region} --label {label} --plot_setting {plot_setting} --zpt_on {keep_zpt_on} --jet_multiplicity {njet} --zpt_wgt_name {zpt_name}\n",
    "\n",
    "zpt_name = \"no_zpt\"\n",
    "! python zpt_validation_plotter.py -y {year} --load_path {load_path}  -var {' '.join(vars2plot)} --data {' '.join(data_l)} --background {' '.join(bkg_l)} --signal {' '.join(sig_l)} --lumi {lumi} --status {status} -cat nocat -reg {region} --label {label} --plot_setting {plot_setting} --zpt_on {keep_zpt_on} --jet_multiplicity {njet} --zpt_wgt_name {zpt_name}\n",
    "\n",
    "\n",
    "njet = 2\n",
    "\n",
    "zpt_name = \"yes_zpt\"\n",
    "! python zpt_validation_plotter.py -y {year} --load_path {load_path}  -var {' '.join(vars2plot)} --data {' '.join(data_l)} --background {' '.join(bkg_l)} --signal {' '.join(sig_l)} --lumi {lumi} --status {status} -cat nocat -reg {region} --label {label} --plot_setting {plot_setting} --zpt_on {keep_zpt_on} --jet_multiplicity {njet} --zpt_wgt_name {zpt_name}\n",
    "\n",
    "zpt_name = \"no_zpt\"\n",
    "! python zpt_validation_plotter.py -y {year} --load_path {load_path}  -var {' '.join(vars2plot)} --data {' '.join(data_l)} --background {' '.join(bkg_l)} --signal {' '.join(sig_l)} --lumi {lumi} --status {status} -cat nocat -reg {region} --label {label} --plot_setting {plot_setting} --zpt_on {keep_zpt_on} --jet_multiplicity {njet} --zpt_wgt_name {zpt_name}\n",
    "\n"
   ]
  },
  {
   "cell_type": "code",
   "execution_count": 1,
   "id": "7b56249f-49e4-48a6-bb53-57f0e33070d4",
   "metadata": {},
   "outputs": [
    {
     "name": "stdout",
     "output_type": "stream",
     "text": [
      "# conda environments:\n",
      "#\n",
      "base                  *  /opt/conda\n",
      "\n"
     ]
    }
   ],
   "source": [
    "!conda env list"
   ]
  },
  {
   "cell_type": "code",
   "execution_count": null,
   "id": "a19a8a13-afec-4d42-a2ce-e7b925792649",
   "metadata": {},
   "outputs": [],
   "source": []
  }
 ],
 "metadata": {
  "kernelspec": {
   "display_name": "coffea_latest",
   "language": "python",
   "name": "coffea_latest"
  },
  "language_info": {
   "codemirror_mode": {
    "name": "ipython",
    "version": 3
   },
   "file_extension": ".py",
   "mimetype": "text/x-python",
   "name": "python",
   "nbconvert_exporter": "python",
   "pygments_lexer": "ipython3",
   "version": "3.11.11"
  }
 },
 "nbformat": 4,
 "nbformat_minor": 5
}
